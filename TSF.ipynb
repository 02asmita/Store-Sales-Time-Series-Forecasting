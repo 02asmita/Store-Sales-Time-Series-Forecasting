{
 "cells": [
  {
   "cell_type": "markdown",
   "id": "7544f2de",
   "metadata": {},
   "source": [
    "# TIME SERIES ANALYSIS"
   ]
  },
  {
   "cell_type": "markdown",
   "id": "a79ae52c",
   "metadata": {
    "_uuid": "36fd2490ab780dd1298aae2c14631950aefab8ef"
   },
   "source": [
    "### 1. Objective <a name = \"Objective\"></a>\n",
    "- Build a model to forecast store sales on data from Corporación Favorita, a large Ecuadorian-based grocery retailer."
   ]
  },
  {
   "cell_type": "markdown",
   "id": "f99ff101",
   "metadata": {},
   "source": [
    "### 2. Data Loading and Visualization <a name = \"Data Loading and Visualization\"></a>\n",
    "\n",
    "__Import the dataset and libraries__ "
   ]
  },
  {
   "cell_type": "code",
   "execution_count": 1,
   "id": "ca663b18",
   "metadata": {},
   "outputs": [],
   "source": [
    "import numpy as np \n",
    "import pandas as pd \n",
    "\n",
    "import warnings; warnings.filterwarnings('ignore')\n",
    "\n",
    "import matplotlib.pyplot as plt\n",
    "# import seaborn as sns\n",
    "# import pylab\n",
    "from pylab import rcParams\n",
    "\n",
    "# plt.rcParams['figure.figsize'] = 18,8\n",
    "# pd.set_option('display.max_columns', None)\n",
    "\n",
    "\n",
    "# from sklearn.metrics import mean_squared_error\n",
    "\n",
    "\n",
    "# from statsmodels.tsa.seasonal import seasonal_decompose\n",
    "# from statsmodels.tsa.stattools import adfuller\n",
    "# from statsmodels.tsa.holtwinters import ExponentialSmoothing\n",
    "# from statsmodels.tsa.arima_model import ARIMA\n",
    "# from statsmodels.graphics.tsaplots import plot_acf, plot_pacf\n",
    "# import pmdarima as pm\n",
    "\n"
   ]
  },
  {
   "cell_type": "code",
   "execution_count": 2,
   "id": "afd3cb73",
   "metadata": {},
   "outputs": [],
   "source": [
    "# for dirname, _, filenames in os.walk(r'C:\\Users\\Administrator\\Desktop\\All\\Impact_Analytics\\store-sales-time-series-forecasting\\Data'):\n",
    "#     for filename in filenames:\n",
    "#         print(filename)"
   ]
  },
  {
   "cell_type": "code",
   "execution_count": 2,
   "id": "3aac5026",
   "metadata": {},
   "outputs": [],
   "source": [
    "path = r\"C:\\Users\\Administrator\\Desktop\\All\\Impact_Analytics\\store-sales-time-series-forecasting\\Data\"\n",
    "train = pd.read_csv(path + \"\\\\train.csv\")\n",
    "test = pd.read_csv(path + \"\\\\test.csv\")\n",
    "oil = pd.read_csv(path + \"\\\\oil.csv\")\n",
    "stores = pd.read_csv(path + \"\\\\stores.csv\")\n",
    "# transactions = pd.read_csv(path + \"\\\\transactions.csv\")\n",
    "holidays_events = pd.read_csv(path + \"\\\\holidays_events.csv\")"
   ]
  },
  {
   "cell_type": "code",
   "execution_count": 4,
   "id": "602eb249",
   "metadata": {},
   "outputs": [
    {
     "data": {
      "text/plain": [
       "(3000888, 6)"
      ]
     },
     "execution_count": 4,
     "metadata": {},
     "output_type": "execute_result"
    }
   ],
   "source": [
    "train.shape"
   ]
  },
  {
   "cell_type": "code",
   "execution_count": 3,
   "id": "45fe0e27",
   "metadata": {},
   "outputs": [],
   "source": [
    "dimDate = pd.DataFrame({\"date\" : pd.date_range('2013-01-01', '2017-08-31')} ) ## a check for missing date values in valrious dfs"
   ]
  },
  {
   "cell_type": "code",
   "execution_count": 5,
   "id": "e0db49e6",
   "metadata": {},
   "outputs": [
    {
     "data": {
      "text/html": [
       "<div>\n",
       "<style scoped>\n",
       "    .dataframe tbody tr th:only-of-type {\n",
       "        vertical-align: middle;\n",
       "    }\n",
       "\n",
       "    .dataframe tbody tr th {\n",
       "        vertical-align: top;\n",
       "    }\n",
       "\n",
       "    .dataframe thead th {\n",
       "        text-align: right;\n",
       "    }\n",
       "</style>\n",
       "<table border=\"1\" class=\"dataframe\">\n",
       "  <thead>\n",
       "    <tr style=\"text-align: right;\">\n",
       "      <th></th>\n",
       "      <th>id</th>\n",
       "      <th>date</th>\n",
       "      <th>store_nbr</th>\n",
       "      <th>family</th>\n",
       "      <th>sales</th>\n",
       "      <th>onpromotion</th>\n",
       "    </tr>\n",
       "  </thead>\n",
       "  <tbody>\n",
       "    <tr>\n",
       "      <th>0</th>\n",
       "      <td>0</td>\n",
       "      <td>2013-01-01</td>\n",
       "      <td>1</td>\n",
       "      <td>AUTOMOTIVE</td>\n",
       "      <td>0.0</td>\n",
       "      <td>0</td>\n",
       "    </tr>\n",
       "    <tr>\n",
       "      <th>1</th>\n",
       "      <td>1</td>\n",
       "      <td>2013-01-01</td>\n",
       "      <td>1</td>\n",
       "      <td>BABY CARE</td>\n",
       "      <td>0.0</td>\n",
       "      <td>0</td>\n",
       "    </tr>\n",
       "    <tr>\n",
       "      <th>2</th>\n",
       "      <td>2</td>\n",
       "      <td>2013-01-01</td>\n",
       "      <td>1</td>\n",
       "      <td>BEAUTY</td>\n",
       "      <td>0.0</td>\n",
       "      <td>0</td>\n",
       "    </tr>\n",
       "    <tr>\n",
       "      <th>3</th>\n",
       "      <td>3</td>\n",
       "      <td>2013-01-01</td>\n",
       "      <td>1</td>\n",
       "      <td>BEVERAGES</td>\n",
       "      <td>0.0</td>\n",
       "      <td>0</td>\n",
       "    </tr>\n",
       "    <tr>\n",
       "      <th>4</th>\n",
       "      <td>4</td>\n",
       "      <td>2013-01-01</td>\n",
       "      <td>1</td>\n",
       "      <td>BOOKS</td>\n",
       "      <td>0.0</td>\n",
       "      <td>0</td>\n",
       "    </tr>\n",
       "    <tr>\n",
       "      <th>5</th>\n",
       "      <td>5</td>\n",
       "      <td>2013-01-01</td>\n",
       "      <td>1</td>\n",
       "      <td>BREAD/BAKERY</td>\n",
       "      <td>0.0</td>\n",
       "      <td>0</td>\n",
       "    </tr>\n",
       "    <tr>\n",
       "      <th>6</th>\n",
       "      <td>6</td>\n",
       "      <td>2013-01-01</td>\n",
       "      <td>1</td>\n",
       "      <td>CELEBRATION</td>\n",
       "      <td>0.0</td>\n",
       "      <td>0</td>\n",
       "    </tr>\n",
       "    <tr>\n",
       "      <th>7</th>\n",
       "      <td>7</td>\n",
       "      <td>2013-01-01</td>\n",
       "      <td>1</td>\n",
       "      <td>CLEANING</td>\n",
       "      <td>0.0</td>\n",
       "      <td>0</td>\n",
       "    </tr>\n",
       "    <tr>\n",
       "      <th>8</th>\n",
       "      <td>8</td>\n",
       "      <td>2013-01-01</td>\n",
       "      <td>1</td>\n",
       "      <td>DAIRY</td>\n",
       "      <td>0.0</td>\n",
       "      <td>0</td>\n",
       "    </tr>\n",
       "    <tr>\n",
       "      <th>9</th>\n",
       "      <td>9</td>\n",
       "      <td>2013-01-01</td>\n",
       "      <td>1</td>\n",
       "      <td>DELI</td>\n",
       "      <td>0.0</td>\n",
       "      <td>0</td>\n",
       "    </tr>\n",
       "  </tbody>\n",
       "</table>\n",
       "</div>"
      ],
      "text/plain": [
       "   id        date  store_nbr        family  sales  onpromotion\n",
       "0   0  2013-01-01          1    AUTOMOTIVE    0.0            0\n",
       "1   1  2013-01-01          1     BABY CARE    0.0            0\n",
       "2   2  2013-01-01          1        BEAUTY    0.0            0\n",
       "3   3  2013-01-01          1     BEVERAGES    0.0            0\n",
       "4   4  2013-01-01          1         BOOKS    0.0            0\n",
       "5   5  2013-01-01          1  BREAD/BAKERY    0.0            0\n",
       "6   6  2013-01-01          1   CELEBRATION    0.0            0\n",
       "7   7  2013-01-01          1      CLEANING    0.0            0\n",
       "8   8  2013-01-01          1         DAIRY    0.0            0\n",
       "9   9  2013-01-01          1          DELI    0.0            0"
      ]
     },
     "execution_count": 5,
     "metadata": {},
     "output_type": "execute_result"
    }
   ],
   "source": [
    "train.head(10)"
   ]
  },
  {
   "cell_type": "code",
   "execution_count": 6,
   "id": "14637c8a",
   "metadata": {},
   "outputs": [
    {
     "data": {
      "text/html": [
       "<div>\n",
       "<style scoped>\n",
       "    .dataframe tbody tr th:only-of-type {\n",
       "        vertical-align: middle;\n",
       "    }\n",
       "\n",
       "    .dataframe tbody tr th {\n",
       "        vertical-align: top;\n",
       "    }\n",
       "\n",
       "    .dataframe thead th {\n",
       "        text-align: right;\n",
       "    }\n",
       "</style>\n",
       "<table border=\"1\" class=\"dataframe\">\n",
       "  <thead>\n",
       "    <tr style=\"text-align: right;\">\n",
       "      <th></th>\n",
       "      <th>id</th>\n",
       "      <th>date</th>\n",
       "      <th>store_nbr</th>\n",
       "      <th>family</th>\n",
       "      <th>onpromotion</th>\n",
       "    </tr>\n",
       "  </thead>\n",
       "  <tbody>\n",
       "    <tr>\n",
       "      <th>0</th>\n",
       "      <td>3000888</td>\n",
       "      <td>2017-08-16</td>\n",
       "      <td>1</td>\n",
       "      <td>AUTOMOTIVE</td>\n",
       "      <td>0</td>\n",
       "    </tr>\n",
       "    <tr>\n",
       "      <th>1</th>\n",
       "      <td>3000889</td>\n",
       "      <td>2017-08-16</td>\n",
       "      <td>1</td>\n",
       "      <td>BABY CARE</td>\n",
       "      <td>0</td>\n",
       "    </tr>\n",
       "    <tr>\n",
       "      <th>2</th>\n",
       "      <td>3000890</td>\n",
       "      <td>2017-08-16</td>\n",
       "      <td>1</td>\n",
       "      <td>BEAUTY</td>\n",
       "      <td>2</td>\n",
       "    </tr>\n",
       "    <tr>\n",
       "      <th>3</th>\n",
       "      <td>3000891</td>\n",
       "      <td>2017-08-16</td>\n",
       "      <td>1</td>\n",
       "      <td>BEVERAGES</td>\n",
       "      <td>20</td>\n",
       "    </tr>\n",
       "    <tr>\n",
       "      <th>4</th>\n",
       "      <td>3000892</td>\n",
       "      <td>2017-08-16</td>\n",
       "      <td>1</td>\n",
       "      <td>BOOKS</td>\n",
       "      <td>0</td>\n",
       "    </tr>\n",
       "    <tr>\n",
       "      <th>5</th>\n",
       "      <td>3000893</td>\n",
       "      <td>2017-08-16</td>\n",
       "      <td>1</td>\n",
       "      <td>BREAD/BAKERY</td>\n",
       "      <td>12</td>\n",
       "    </tr>\n",
       "    <tr>\n",
       "      <th>6</th>\n",
       "      <td>3000894</td>\n",
       "      <td>2017-08-16</td>\n",
       "      <td>1</td>\n",
       "      <td>CELEBRATION</td>\n",
       "      <td>0</td>\n",
       "    </tr>\n",
       "    <tr>\n",
       "      <th>7</th>\n",
       "      <td>3000895</td>\n",
       "      <td>2017-08-16</td>\n",
       "      <td>1</td>\n",
       "      <td>CLEANING</td>\n",
       "      <td>25</td>\n",
       "    </tr>\n",
       "    <tr>\n",
       "      <th>8</th>\n",
       "      <td>3000896</td>\n",
       "      <td>2017-08-16</td>\n",
       "      <td>1</td>\n",
       "      <td>DAIRY</td>\n",
       "      <td>45</td>\n",
       "    </tr>\n",
       "    <tr>\n",
       "      <th>9</th>\n",
       "      <td>3000897</td>\n",
       "      <td>2017-08-16</td>\n",
       "      <td>1</td>\n",
       "      <td>DELI</td>\n",
       "      <td>18</td>\n",
       "    </tr>\n",
       "  </tbody>\n",
       "</table>\n",
       "</div>"
      ],
      "text/plain": [
       "        id        date  store_nbr        family  onpromotion\n",
       "0  3000888  2017-08-16          1    AUTOMOTIVE            0\n",
       "1  3000889  2017-08-16          1     BABY CARE            0\n",
       "2  3000890  2017-08-16          1        BEAUTY            2\n",
       "3  3000891  2017-08-16          1     BEVERAGES           20\n",
       "4  3000892  2017-08-16          1         BOOKS            0\n",
       "5  3000893  2017-08-16          1  BREAD/BAKERY           12\n",
       "6  3000894  2017-08-16          1   CELEBRATION            0\n",
       "7  3000895  2017-08-16          1      CLEANING           25\n",
       "8  3000896  2017-08-16          1         DAIRY           45\n",
       "9  3000897  2017-08-16          1          DELI           18"
      ]
     },
     "execution_count": 6,
     "metadata": {},
     "output_type": "execute_result"
    }
   ],
   "source": [
    "test.head(10)"
   ]
  },
  {
   "cell_type": "code",
   "execution_count": 7,
   "id": "f5622193",
   "metadata": {},
   "outputs": [
    {
     "data": {
      "text/html": [
       "<div>\n",
       "<style scoped>\n",
       "    .dataframe tbody tr th:only-of-type {\n",
       "        vertical-align: middle;\n",
       "    }\n",
       "\n",
       "    .dataframe tbody tr th {\n",
       "        vertical-align: top;\n",
       "    }\n",
       "\n",
       "    .dataframe thead th {\n",
       "        text-align: right;\n",
       "    }\n",
       "</style>\n",
       "<table border=\"1\" class=\"dataframe\">\n",
       "  <thead>\n",
       "    <tr style=\"text-align: right;\">\n",
       "      <th></th>\n",
       "      <th>date</th>\n",
       "      <th>store_nbr</th>\n",
       "      <th>transactions</th>\n",
       "    </tr>\n",
       "  </thead>\n",
       "  <tbody>\n",
       "    <tr>\n",
       "      <th>0</th>\n",
       "      <td>2013-01-01</td>\n",
       "      <td>25</td>\n",
       "      <td>770</td>\n",
       "    </tr>\n",
       "  </tbody>\n",
       "</table>\n",
       "</div>"
      ],
      "text/plain": [
       "         date  store_nbr  transactions\n",
       "0  2013-01-01         25           770"
      ]
     },
     "execution_count": 7,
     "metadata": {},
     "output_type": "execute_result"
    }
   ],
   "source": [
    "transactions.head(1)"
   ]
  },
  {
   "cell_type": "code",
   "execution_count": 8,
   "id": "f3e321b9",
   "metadata": {},
   "outputs": [
    {
     "data": {
      "text/html": [
       "<div>\n",
       "<style scoped>\n",
       "    .dataframe tbody tr th:only-of-type {\n",
       "        vertical-align: middle;\n",
       "    }\n",
       "\n",
       "    .dataframe tbody tr th {\n",
       "        vertical-align: top;\n",
       "    }\n",
       "\n",
       "    .dataframe thead th {\n",
       "        text-align: right;\n",
       "    }\n",
       "</style>\n",
       "<table border=\"1\" class=\"dataframe\">\n",
       "  <thead>\n",
       "    <tr style=\"text-align: right;\">\n",
       "      <th></th>\n",
       "      <th>date</th>\n",
       "      <th>type</th>\n",
       "      <th>locale</th>\n",
       "      <th>locale_name</th>\n",
       "      <th>description</th>\n",
       "      <th>transferred</th>\n",
       "    </tr>\n",
       "  </thead>\n",
       "  <tbody>\n",
       "    <tr>\n",
       "      <th>0</th>\n",
       "      <td>2012-03-02</td>\n",
       "      <td>Holiday</td>\n",
       "      <td>Local</td>\n",
       "      <td>Manta</td>\n",
       "      <td>Fundacion de Manta</td>\n",
       "      <td>False</td>\n",
       "    </tr>\n",
       "  </tbody>\n",
       "</table>\n",
       "</div>"
      ],
      "text/plain": [
       "         date     type locale locale_name         description  transferred\n",
       "0  2012-03-02  Holiday  Local       Manta  Fundacion de Manta        False"
      ]
     },
     "execution_count": 8,
     "metadata": {},
     "output_type": "execute_result"
    }
   ],
   "source": [
    "holidays_events.head(1)"
   ]
  },
  {
   "cell_type": "code",
   "execution_count": 9,
   "id": "9fe381e7",
   "metadata": {},
   "outputs": [
    {
     "data": {
      "text/plain": [
       "Holiday       221\n",
       "Event          56\n",
       "Additional     51\n",
       "Transfer       12\n",
       "Bridge          5\n",
       "Work Day        5\n",
       "Name: type, dtype: int64"
      ]
     },
     "execution_count": 9,
     "metadata": {},
     "output_type": "execute_result"
    }
   ],
   "source": [
    "holidays_events.type.value_counts()"
   ]
  },
  {
   "cell_type": "code",
   "execution_count": 10,
   "id": "2d3136b1",
   "metadata": {},
   "outputs": [
    {
     "data": {
      "text/plain": [
       "('2017-08-15', '2013-01-01', '2017-08-31')"
      ]
     },
     "execution_count": 10,
     "metadata": {},
     "output_type": "execute_result"
    }
   ],
   "source": [
    "train.date.max(), train.date.min(), test.date.max()"
   ]
  },
  {
   "cell_type": "code",
   "execution_count": 11,
   "id": "30a6850a",
   "metadata": {},
   "outputs": [
    {
     "data": {
      "text/plain": [
       "('2017-12-26', '2012-03-02')"
      ]
     },
     "execution_count": 11,
     "metadata": {},
     "output_type": "execute_result"
    }
   ],
   "source": [
    "holidays_events.date.max(), holidays_events.date.min()"
   ]
  },
  {
   "cell_type": "code",
   "execution_count": 4,
   "id": "2fe316af",
   "metadata": {},
   "outputs": [],
   "source": [
    "holidays_events.rename(columns = {'type':'holiday_type'},inplace = True)"
   ]
  },
  {
   "cell_type": "code",
   "execution_count": 13,
   "id": "4d219395",
   "metadata": {},
   "outputs": [
    {
     "data": {
      "text/plain": [
       "date            0\n",
       "holiday_type    0\n",
       "locale          0\n",
       "locale_name     0\n",
       "description     0\n",
       "transferred     0\n",
       "dtype: int64"
      ]
     },
     "execution_count": 13,
     "metadata": {},
     "output_type": "execute_result"
    }
   ],
   "source": [
    "holidays_events.isnull().sum()"
   ]
  },
  {
   "cell_type": "code",
   "execution_count": 14,
   "id": "0f6d473a",
   "metadata": {},
   "outputs": [
    {
     "data": {
      "text/html": [
       "<div>\n",
       "<style scoped>\n",
       "    .dataframe tbody tr th:only-of-type {\n",
       "        vertical-align: middle;\n",
       "    }\n",
       "\n",
       "    .dataframe tbody tr th {\n",
       "        vertical-align: top;\n",
       "    }\n",
       "\n",
       "    .dataframe thead th {\n",
       "        text-align: right;\n",
       "    }\n",
       "</style>\n",
       "<table border=\"1\" class=\"dataframe\">\n",
       "  <thead>\n",
       "    <tr style=\"text-align: right;\">\n",
       "      <th></th>\n",
       "      <th>store_nbr</th>\n",
       "      <th>city</th>\n",
       "      <th>state</th>\n",
       "      <th>type</th>\n",
       "      <th>cluster</th>\n",
       "    </tr>\n",
       "  </thead>\n",
       "  <tbody>\n",
       "    <tr>\n",
       "      <th>0</th>\n",
       "      <td>1</td>\n",
       "      <td>Quito</td>\n",
       "      <td>Pichincha</td>\n",
       "      <td>D</td>\n",
       "      <td>13</td>\n",
       "    </tr>\n",
       "  </tbody>\n",
       "</table>\n",
       "</div>"
      ],
      "text/plain": [
       "   store_nbr   city      state type  cluster\n",
       "0          1  Quito  Pichincha    D       13"
      ]
     },
     "execution_count": 14,
     "metadata": {},
     "output_type": "execute_result"
    }
   ],
   "source": [
    "stores.head(1)"
   ]
  },
  {
   "cell_type": "code",
   "execution_count": 15,
   "id": "c3afcd65",
   "metadata": {},
   "outputs": [
    {
     "data": {
      "text/plain": [
       "store_nbr    0\n",
       "city         0\n",
       "state        0\n",
       "type         0\n",
       "cluster      0\n",
       "dtype: int64"
      ]
     },
     "execution_count": 15,
     "metadata": {},
     "output_type": "execute_result"
    }
   ],
   "source": [
    "stores.isnull().sum()"
   ]
  },
  {
   "cell_type": "code",
   "execution_count": 16,
   "id": "cd8a71ab",
   "metadata": {},
   "outputs": [
    {
     "data": {
      "text/plain": [
       "D    18\n",
       "C    15\n",
       "A     9\n",
       "B     8\n",
       "E     4\n",
       "Name: type, dtype: int64"
      ]
     },
     "execution_count": 16,
     "metadata": {},
     "output_type": "execute_result"
    }
   ],
   "source": [
    "stores.type.value_counts()"
   ]
  },
  {
   "cell_type": "code",
   "execution_count": 5,
   "id": "678963eb",
   "metadata": {},
   "outputs": [],
   "source": [
    "stores.rename(columns = {'type':'store_type'},inplace = True)"
   ]
  },
  {
   "cell_type": "code",
   "execution_count": 6,
   "id": "03a2d9b6",
   "metadata": {},
   "outputs": [],
   "source": [
    "def func_datetime(df):\n",
    "    df['date'] = pd.to_datetime(df['date'])\n",
    "    return df\n",
    "oil = func_datetime(oil)\n",
    "holidays_events = func_datetime(holidays_events)\n",
    "train = func_datetime(train)\n",
    "test = func_datetime(test)\n",
    "# transactions = func_datetime(transactions)"
   ]
  },
  {
   "cell_type": "code",
   "execution_count": 7,
   "id": "fa0fa57b",
   "metadata": {},
   "outputs": [],
   "source": [
    "oil = dimDate.merge(oil,on = 'date',how = 'left')"
   ]
  },
  {
   "cell_type": "code",
   "execution_count": 20,
   "id": "cd32613b",
   "metadata": {},
   "outputs": [
    {
     "data": {
      "text/html": [
       "<div>\n",
       "<style scoped>\n",
       "    .dataframe tbody tr th:only-of-type {\n",
       "        vertical-align: middle;\n",
       "    }\n",
       "\n",
       "    .dataframe tbody tr th {\n",
       "        vertical-align: top;\n",
       "    }\n",
       "\n",
       "    .dataframe thead th {\n",
       "        text-align: right;\n",
       "    }\n",
       "</style>\n",
       "<table border=\"1\" class=\"dataframe\">\n",
       "  <thead>\n",
       "    <tr style=\"text-align: right;\">\n",
       "      <th></th>\n",
       "      <th>date</th>\n",
       "      <th>dcoilwtico</th>\n",
       "    </tr>\n",
       "  </thead>\n",
       "  <tbody>\n",
       "    <tr>\n",
       "      <th>0</th>\n",
       "      <td>2013-01-01</td>\n",
       "      <td>NaN</td>\n",
       "    </tr>\n",
       "    <tr>\n",
       "      <th>1</th>\n",
       "      <td>2013-01-02</td>\n",
       "      <td>93.14</td>\n",
       "    </tr>\n",
       "    <tr>\n",
       "      <th>2</th>\n",
       "      <td>2013-01-03</td>\n",
       "      <td>92.97</td>\n",
       "    </tr>\n",
       "    <tr>\n",
       "      <th>3</th>\n",
       "      <td>2013-01-04</td>\n",
       "      <td>93.12</td>\n",
       "    </tr>\n",
       "    <tr>\n",
       "      <th>4</th>\n",
       "      <td>2013-01-05</td>\n",
       "      <td>NaN</td>\n",
       "    </tr>\n",
       "    <tr>\n",
       "      <th>5</th>\n",
       "      <td>2013-01-06</td>\n",
       "      <td>NaN</td>\n",
       "    </tr>\n",
       "    <tr>\n",
       "      <th>6</th>\n",
       "      <td>2013-01-07</td>\n",
       "      <td>93.20</td>\n",
       "    </tr>\n",
       "    <tr>\n",
       "      <th>7</th>\n",
       "      <td>2013-01-08</td>\n",
       "      <td>93.21</td>\n",
       "    </tr>\n",
       "    <tr>\n",
       "      <th>8</th>\n",
       "      <td>2013-01-09</td>\n",
       "      <td>93.08</td>\n",
       "    </tr>\n",
       "    <tr>\n",
       "      <th>9</th>\n",
       "      <td>2013-01-10</td>\n",
       "      <td>93.81</td>\n",
       "    </tr>\n",
       "    <tr>\n",
       "      <th>10</th>\n",
       "      <td>2013-01-11</td>\n",
       "      <td>93.60</td>\n",
       "    </tr>\n",
       "    <tr>\n",
       "      <th>11</th>\n",
       "      <td>2013-01-12</td>\n",
       "      <td>NaN</td>\n",
       "    </tr>\n",
       "    <tr>\n",
       "      <th>12</th>\n",
       "      <td>2013-01-13</td>\n",
       "      <td>NaN</td>\n",
       "    </tr>\n",
       "    <tr>\n",
       "      <th>13</th>\n",
       "      <td>2013-01-14</td>\n",
       "      <td>94.27</td>\n",
       "    </tr>\n",
       "    <tr>\n",
       "      <th>14</th>\n",
       "      <td>2013-01-15</td>\n",
       "      <td>93.26</td>\n",
       "    </tr>\n",
       "    <tr>\n",
       "      <th>15</th>\n",
       "      <td>2013-01-16</td>\n",
       "      <td>94.28</td>\n",
       "    </tr>\n",
       "    <tr>\n",
       "      <th>16</th>\n",
       "      <td>2013-01-17</td>\n",
       "      <td>95.49</td>\n",
       "    </tr>\n",
       "    <tr>\n",
       "      <th>17</th>\n",
       "      <td>2013-01-18</td>\n",
       "      <td>95.61</td>\n",
       "    </tr>\n",
       "    <tr>\n",
       "      <th>18</th>\n",
       "      <td>2013-01-19</td>\n",
       "      <td>NaN</td>\n",
       "    </tr>\n",
       "    <tr>\n",
       "      <th>19</th>\n",
       "      <td>2013-01-20</td>\n",
       "      <td>NaN</td>\n",
       "    </tr>\n",
       "    <tr>\n",
       "      <th>20</th>\n",
       "      <td>2013-01-21</td>\n",
       "      <td>NaN</td>\n",
       "    </tr>\n",
       "  </tbody>\n",
       "</table>\n",
       "</div>"
      ],
      "text/plain": [
       "         date  dcoilwtico\n",
       "0  2013-01-01         NaN\n",
       "1  2013-01-02       93.14\n",
       "2  2013-01-03       92.97\n",
       "3  2013-01-04       93.12\n",
       "4  2013-01-05         NaN\n",
       "5  2013-01-06         NaN\n",
       "6  2013-01-07       93.20\n",
       "7  2013-01-08       93.21\n",
       "8  2013-01-09       93.08\n",
       "9  2013-01-10       93.81\n",
       "10 2013-01-11       93.60\n",
       "11 2013-01-12         NaN\n",
       "12 2013-01-13         NaN\n",
       "13 2013-01-14       94.27\n",
       "14 2013-01-15       93.26\n",
       "15 2013-01-16       94.28\n",
       "16 2013-01-17       95.49\n",
       "17 2013-01-18       95.61\n",
       "18 2013-01-19         NaN\n",
       "19 2013-01-20         NaN\n",
       "20 2013-01-21         NaN"
      ]
     },
     "execution_count": 20,
     "metadata": {},
     "output_type": "execute_result"
    }
   ],
   "source": [
    "oil.head(21)"
   ]
  },
  {
   "cell_type": "code",
   "execution_count": 21,
   "id": "87895494",
   "metadata": {},
   "outputs": [
    {
     "data": {
      "text/plain": [
       "date            0\n",
       "dcoilwtico    529\n",
       "dtype: int64"
      ]
     },
     "execution_count": 21,
     "metadata": {},
     "output_type": "execute_result"
    }
   ],
   "source": [
    "oil.isnull().sum()"
   ]
  },
  {
   "cell_type": "code",
   "execution_count": 22,
   "id": "fdc480aa",
   "metadata": {},
   "outputs": [
    {
     "data": {
      "text/plain": [
       "(Timestamp('2017-08-15 00:00:00'),\n",
       " Timestamp('2013-01-01 00:00:00'),\n",
       " Timestamp('2017-08-31 00:00:00'))"
      ]
     },
     "execution_count": 22,
     "metadata": {},
     "output_type": "execute_result"
    }
   ],
   "source": [
    "train.date.max(), train.date.min(), test.date.max()"
   ]
  },
  {
   "cell_type": "code",
   "execution_count": 23,
   "id": "6e0a9394",
   "metadata": {},
   "outputs": [
    {
     "data": {
      "text/plain": [
       "(Timestamp('2017-08-31 00:00:00'), Timestamp('2013-01-01 00:00:00'))"
      ]
     },
     "execution_count": 23,
     "metadata": {},
     "output_type": "execute_result"
    }
   ],
   "source": [
    "oil.date.max(), oil.date.min()"
   ]
  },
  {
   "cell_type": "code",
   "execution_count": 24,
   "id": "f1f1c612",
   "metadata": {},
   "outputs": [
    {
     "data": {
      "text/plain": [
       "date            0\n",
       "store_nbr       0\n",
       "transactions    0\n",
       "dtype: int64"
      ]
     },
     "execution_count": 24,
     "metadata": {},
     "output_type": "execute_result"
    }
   ],
   "source": [
    "transactions.isnull().sum()"
   ]
  },
  {
   "cell_type": "markdown",
   "id": "7a918b21",
   "metadata": {},
   "source": [
    "__Can use forward or backward fill method to replace missing values__"
   ]
  },
  {
   "cell_type": "code",
   "execution_count": 8,
   "id": "68e69c83",
   "metadata": {},
   "outputs": [],
   "source": [
    "oil[\"dcoilwtico\"] = oil.dcoilwtico.interpolate() # avg of bfill and ffill for all rows except for first\n",
    "oil[\"dcoilwtico\"] = oil.dcoilwtico.fillna(method ='bfill') # bfill for first row"
   ]
  },
  {
   "cell_type": "code",
   "execution_count": 26,
   "id": "6ac17f05",
   "metadata": {},
   "outputs": [
    {
     "data": {
      "text/plain": [
       "date          0\n",
       "dcoilwtico    0\n",
       "dtype: int64"
      ]
     },
     "execution_count": 26,
     "metadata": {},
     "output_type": "execute_result"
    }
   ],
   "source": [
    "oil.isnull().sum()"
   ]
  },
  {
   "cell_type": "code",
   "execution_count": 27,
   "id": "9771215a",
   "metadata": {},
   "outputs": [
    {
     "data": {
      "text/plain": [
       "(Timestamp('2017-12-26 00:00:00'), Timestamp('2012-03-02 00:00:00'))"
      ]
     },
     "execution_count": 27,
     "metadata": {},
     "output_type": "execute_result"
    }
   ],
   "source": [
    "holidays_events.date.max(),holidays_events.date.min()"
   ]
  },
  {
   "cell_type": "code",
   "execution_count": 28,
   "id": "caaef7cb",
   "metadata": {},
   "outputs": [],
   "source": [
    "holidays_events.sort_values('date',inplace=True)"
   ]
  },
  {
   "cell_type": "code",
   "execution_count": 29,
   "id": "1894a28b",
   "metadata": {},
   "outputs": [
    {
     "data": {
      "text/html": [
       "<div>\n",
       "<style scoped>\n",
       "    .dataframe tbody tr th:only-of-type {\n",
       "        vertical-align: middle;\n",
       "    }\n",
       "\n",
       "    .dataframe tbody tr th {\n",
       "        vertical-align: top;\n",
       "    }\n",
       "\n",
       "    .dataframe thead th {\n",
       "        text-align: right;\n",
       "    }\n",
       "</style>\n",
       "<table border=\"1\" class=\"dataframe\">\n",
       "  <thead>\n",
       "    <tr style=\"text-align: right;\">\n",
       "      <th></th>\n",
       "      <th>date</th>\n",
       "      <th>holiday_type</th>\n",
       "      <th>locale</th>\n",
       "      <th>locale_name</th>\n",
       "      <th>description</th>\n",
       "      <th>transferred</th>\n",
       "    </tr>\n",
       "  </thead>\n",
       "  <tbody>\n",
       "    <tr>\n",
       "      <th>0</th>\n",
       "      <td>2012-03-02</td>\n",
       "      <td>Holiday</td>\n",
       "      <td>Local</td>\n",
       "      <td>Manta</td>\n",
       "      <td>Fundacion de Manta</td>\n",
       "      <td>False</td>\n",
       "    </tr>\n",
       "    <tr>\n",
       "      <th>1</th>\n",
       "      <td>2012-04-01</td>\n",
       "      <td>Holiday</td>\n",
       "      <td>Regional</td>\n",
       "      <td>Cotopaxi</td>\n",
       "      <td>Provincializacion de Cotopaxi</td>\n",
       "      <td>False</td>\n",
       "    </tr>\n",
       "    <tr>\n",
       "      <th>2</th>\n",
       "      <td>2012-04-12</td>\n",
       "      <td>Holiday</td>\n",
       "      <td>Local</td>\n",
       "      <td>Cuenca</td>\n",
       "      <td>Fundacion de Cuenca</td>\n",
       "      <td>False</td>\n",
       "    </tr>\n",
       "    <tr>\n",
       "      <th>3</th>\n",
       "      <td>2012-04-14</td>\n",
       "      <td>Holiday</td>\n",
       "      <td>Local</td>\n",
       "      <td>Libertad</td>\n",
       "      <td>Cantonizacion de Libertad</td>\n",
       "      <td>False</td>\n",
       "    </tr>\n",
       "    <tr>\n",
       "      <th>4</th>\n",
       "      <td>2012-04-21</td>\n",
       "      <td>Holiday</td>\n",
       "      <td>Local</td>\n",
       "      <td>Riobamba</td>\n",
       "      <td>Cantonizacion de Riobamba</td>\n",
       "      <td>False</td>\n",
       "    </tr>\n",
       "  </tbody>\n",
       "</table>\n",
       "</div>"
      ],
      "text/plain": [
       "        date holiday_type    locale locale_name  \\\n",
       "0 2012-03-02      Holiday     Local       Manta   \n",
       "1 2012-04-01      Holiday  Regional    Cotopaxi   \n",
       "2 2012-04-12      Holiday     Local      Cuenca   \n",
       "3 2012-04-14      Holiday     Local    Libertad   \n",
       "4 2012-04-21      Holiday     Local    Riobamba   \n",
       "\n",
       "                     description  transferred  \n",
       "0             Fundacion de Manta        False  \n",
       "1  Provincializacion de Cotopaxi        False  \n",
       "2            Fundacion de Cuenca        False  \n",
       "3      Cantonizacion de Libertad        False  \n",
       "4      Cantonizacion de Riobamba        False  "
      ]
     },
     "execution_count": 29,
     "metadata": {},
     "output_type": "execute_result"
    }
   ],
   "source": [
    "holidays_events.head()"
   ]
  },
  {
   "cell_type": "code",
   "execution_count": 9,
   "id": "95e3cc4c",
   "metadata": {},
   "outputs": [
    {
     "data": {
      "text/html": [
       "<div>\n",
       "<style scoped>\n",
       "    .dataframe tbody tr th:only-of-type {\n",
       "        vertical-align: middle;\n",
       "    }\n",
       "\n",
       "    .dataframe tbody tr th {\n",
       "        vertical-align: top;\n",
       "    }\n",
       "\n",
       "    .dataframe thead th {\n",
       "        text-align: right;\n",
       "    }\n",
       "</style>\n",
       "<table border=\"1\" class=\"dataframe\">\n",
       "  <thead>\n",
       "    <tr style=\"text-align: right;\">\n",
       "      <th></th>\n",
       "      <th>date</th>\n",
       "      <th>holiday_type</th>\n",
       "      <th>locale</th>\n",
       "      <th>locale_name</th>\n",
       "      <th>description</th>\n",
       "      <th>transferred</th>\n",
       "    </tr>\n",
       "  </thead>\n",
       "  <tbody>\n",
       "    <tr>\n",
       "      <th>0</th>\n",
       "      <td>2013-01-01</td>\n",
       "      <td>Holiday</td>\n",
       "      <td>National</td>\n",
       "      <td>Ecuador</td>\n",
       "      <td>Primer dia del ano</td>\n",
       "      <td>False</td>\n",
       "    </tr>\n",
       "    <tr>\n",
       "      <th>1</th>\n",
       "      <td>2013-01-02</td>\n",
       "      <td>NaN</td>\n",
       "      <td>NaN</td>\n",
       "      <td>NaN</td>\n",
       "      <td>NaN</td>\n",
       "      <td>NaN</td>\n",
       "    </tr>\n",
       "    <tr>\n",
       "      <th>2</th>\n",
       "      <td>2013-01-03</td>\n",
       "      <td>NaN</td>\n",
       "      <td>NaN</td>\n",
       "      <td>NaN</td>\n",
       "      <td>NaN</td>\n",
       "      <td>NaN</td>\n",
       "    </tr>\n",
       "  </tbody>\n",
       "</table>\n",
       "</div>"
      ],
      "text/plain": [
       "        date holiday_type    locale locale_name         description  \\\n",
       "0 2013-01-01      Holiday  National     Ecuador  Primer dia del ano   \n",
       "1 2013-01-02          NaN       NaN         NaN                 NaN   \n",
       "2 2013-01-03          NaN       NaN         NaN                 NaN   \n",
       "\n",
       "  transferred  \n",
       "0       False  \n",
       "1         NaN  \n",
       "2         NaN  "
      ]
     },
     "execution_count": 9,
     "metadata": {},
     "output_type": "execute_result"
    }
   ],
   "source": [
    "calendar = dimDate.merge(holidays_events, on = 'date', how='left')\n",
    "calendar.head(3)"
   ]
  },
  {
   "cell_type": "code",
   "execution_count": 31,
   "id": "e5226429",
   "metadata": {},
   "outputs": [
    {
     "data": {
      "text/plain": [
       "False    278\n",
       "True       9\n",
       "Name: transferred, dtype: int64"
      ]
     },
     "execution_count": 31,
     "metadata": {},
     "output_type": "execute_result"
    }
   ],
   "source": [
    "calendar.transferred.value_counts()"
   ]
  },
  {
   "cell_type": "code",
   "execution_count": 32,
   "id": "0931d1bf",
   "metadata": {},
   "outputs": [
    {
     "data": {
      "text/plain": [
       "Holiday       176\n",
       "Event          56\n",
       "Additional     38\n",
       "Transfer        9\n",
       "Work Day        5\n",
       "Bridge          3\n",
       "Name: holiday_type, dtype: int64"
      ]
     },
     "execution_count": 32,
     "metadata": {},
     "output_type": "execute_result"
    }
   ],
   "source": [
    "calendar.holiday_type.value_counts()"
   ]
  },
  {
   "cell_type": "code",
   "execution_count": 33,
   "id": "3bdf5108",
   "metadata": {},
   "outputs": [],
   "source": [
    "## transferred alrady covered in holiday_type... so dropping it"
   ]
  },
  {
   "cell_type": "code",
   "execution_count": 10,
   "id": "ddfc91d3",
   "metadata": {},
   "outputs": [],
   "source": [
    "calendar.drop('transferred',inplace = True,axis = 1)"
   ]
  },
  {
   "cell_type": "code",
   "execution_count": 35,
   "id": "0dd94e93",
   "metadata": {},
   "outputs": [
    {
     "data": {
      "text/plain": [
       "National    151\n",
       "Local       118\n",
       "Regional     18\n",
       "Name: locale, dtype: int64"
      ]
     },
     "execution_count": 35,
     "metadata": {},
     "output_type": "execute_result"
    }
   ],
   "source": [
    "calendar.locale.value_counts()"
   ]
  },
  {
   "cell_type": "code",
   "execution_count": 36,
   "id": "47dc3c4a",
   "metadata": {},
   "outputs": [
    {
     "data": {
      "text/plain": [
       "Ecuador                           151\n",
       "Guayaquil                          11\n",
       "Riobamba                           10\n",
       "Ambato                              9\n",
       "Guaranda                            9\n",
       "Latacunga                           9\n",
       "Quito                               8\n",
       "Cuenca                              6\n",
       "Manta                               5\n",
       "Esmeraldas                          5\n",
       "Cayambe                             5\n",
       "Santo Domingo                       5\n",
       "El Carmen                           5\n",
       "Machala                             5\n",
       "Imbabura                            5\n",
       "Puyo                                5\n",
       "Libertad                            5\n",
       "Cotopaxi                            5\n",
       "Ibarra                              4\n",
       "Quevedo                             4\n",
       "Santo Domingo de los Tsachilas      4\n",
       "Santa Elena                         4\n",
       "Loja                                4\n",
       "Salinas                             4\n",
       "Name: locale_name, dtype: int64"
      ]
     },
     "execution_count": 36,
     "metadata": {},
     "output_type": "execute_result"
    }
   ],
   "source": [
    "calendar.locale_name.value_counts()"
   ]
  },
  {
   "cell_type": "code",
   "execution_count": 11,
   "id": "e7a5be8f",
   "metadata": {},
   "outputs": [],
   "source": [
    "calendar.fillna(\"Others\",inplace = True)"
   ]
  },
  {
   "cell_type": "code",
   "execution_count": 38,
   "id": "fed4b4c1",
   "metadata": {},
   "outputs": [
    {
     "data": {
      "text/plain": [
       "date            0\n",
       "holiday_type    0\n",
       "locale          0\n",
       "locale_name     0\n",
       "description     0\n",
       "dtype: int64"
      ]
     },
     "execution_count": 38,
     "metadata": {},
     "output_type": "execute_result"
    }
   ],
   "source": [
    "calendar.isnull().sum()"
   ]
  },
  {
   "cell_type": "code",
   "execution_count": 39,
   "id": "c6ede68d",
   "metadata": {},
   "outputs": [
    {
     "data": {
      "text/plain": [
       "(Timestamp('2017-08-15 00:00:00'), Timestamp('2013-01-01 00:00:00'))"
      ]
     },
     "execution_count": 39,
     "metadata": {},
     "output_type": "execute_result"
    }
   ],
   "source": [
    "transactions.date.max(), transactions.date.min() # we cant use transactions data as we dont have its values for test data dates.."
   ]
  },
  {
   "cell_type": "code",
   "execution_count": 12,
   "id": "260026e7",
   "metadata": {},
   "outputs": [],
   "source": [
    "def merge(df):\n",
    "    df1 = df.merge(calendar, on = 'date', how='left')\n",
    "    df1 = df1.merge(oil, on = 'date', how='left')\n",
    "    df1 = df1.merge(stores, on = 'store_nbr', how='left')\n",
    "    return df1"
   ]
  },
  {
   "cell_type": "code",
   "execution_count": 15,
   "id": "fa0d712e",
   "metadata": {},
   "outputs": [],
   "source": [
    "df_train = merge(train)\n",
    "df_test = merge(test)"
   ]
  },
  {
   "cell_type": "code",
   "execution_count": 42,
   "id": "aee64b04",
   "metadata": {},
   "outputs": [
    {
     "data": {
      "text/plain": [
       "id              0\n",
       "date            0\n",
       "store_nbr       0\n",
       "family          0\n",
       "onpromotion     0\n",
       "holiday_type    0\n",
       "locale          0\n",
       "locale_name     0\n",
       "description     0\n",
       "dcoilwtico      0\n",
       "city            0\n",
       "state           0\n",
       "store_type      0\n",
       "cluster         0\n",
       "dtype: int64"
      ]
     },
     "execution_count": 42,
     "metadata": {},
     "output_type": "execute_result"
    }
   ],
   "source": [
    "df_test.isnull().sum()"
   ]
  },
  {
   "cell_type": "code",
   "execution_count": 43,
   "id": "526f473e",
   "metadata": {},
   "outputs": [
    {
     "data": {
      "text/plain": [
       "id              0\n",
       "date            0\n",
       "store_nbr       0\n",
       "family          0\n",
       "sales           0\n",
       "onpromotion     0\n",
       "holiday_type    0\n",
       "locale          0\n",
       "locale_name     0\n",
       "description     0\n",
       "dcoilwtico      0\n",
       "city            0\n",
       "state           0\n",
       "store_type      0\n",
       "cluster         0\n",
       "dtype: int64"
      ]
     },
     "execution_count": 43,
     "metadata": {},
     "output_type": "execute_result"
    }
   ],
   "source": [
    "df_train.isnull().sum()"
   ]
  },
  {
   "cell_type": "markdown",
   "id": "313ea555",
   "metadata": {},
   "source": [
    "Our dataset is finally ready.. we can now start with feature engineering.. lets create new features"
   ]
  },
  {
   "cell_type": "code",
   "execution_count": 16,
   "id": "a46e39b9",
   "metadata": {},
   "outputs": [],
   "source": [
    "def features(df):\n",
    "    df['date'] = pd.to_datetime(df['date'])\n",
    "    df['year'] = df['date'].dt.year\n",
    "    df['month'] = df['date'].dt.month\n",
    "    df['week'] = df['date'].dt.isocalendar().week\n",
    "    df['quarter'] = df['date'].dt.quarter\n",
    "    df['day_of_week'] = df['date'].dt.day_name()\n",
    "    return df"
   ]
  },
  {
   "cell_type": "code",
   "execution_count": 17,
   "id": "b763128d",
   "metadata": {},
   "outputs": [],
   "source": [
    "df_train = features(df_train)\n",
    "df_test = features(df_test)"
   ]
  },
  {
   "cell_type": "code",
   "execution_count": 46,
   "id": "98317878",
   "metadata": {},
   "outputs": [
    {
     "data": {
      "text/html": [
       "<div>\n",
       "<style scoped>\n",
       "    .dataframe tbody tr th:only-of-type {\n",
       "        vertical-align: middle;\n",
       "    }\n",
       "\n",
       "    .dataframe tbody tr th {\n",
       "        vertical-align: top;\n",
       "    }\n",
       "\n",
       "    .dataframe thead th {\n",
       "        text-align: right;\n",
       "    }\n",
       "</style>\n",
       "<table border=\"1\" class=\"dataframe\">\n",
       "  <thead>\n",
       "    <tr style=\"text-align: right;\">\n",
       "      <th></th>\n",
       "      <th>id</th>\n",
       "      <th>date</th>\n",
       "      <th>store_nbr</th>\n",
       "      <th>family</th>\n",
       "      <th>sales</th>\n",
       "      <th>onpromotion</th>\n",
       "      <th>holiday_type</th>\n",
       "      <th>locale</th>\n",
       "      <th>locale_name</th>\n",
       "      <th>description</th>\n",
       "      <th>dcoilwtico</th>\n",
       "      <th>city</th>\n",
       "      <th>state</th>\n",
       "      <th>store_type</th>\n",
       "      <th>cluster</th>\n",
       "      <th>year</th>\n",
       "      <th>month</th>\n",
       "      <th>week</th>\n",
       "      <th>quarter</th>\n",
       "      <th>day_of_week</th>\n",
       "    </tr>\n",
       "  </thead>\n",
       "  <tbody>\n",
       "    <tr>\n",
       "      <th>3054346</th>\n",
       "      <td>3000886</td>\n",
       "      <td>2017-08-15</td>\n",
       "      <td>9</td>\n",
       "      <td>SCHOOL AND OFFICE SUPPLIES</td>\n",
       "      <td>121.0</td>\n",
       "      <td>8</td>\n",
       "      <td>Holiday</td>\n",
       "      <td>Local</td>\n",
       "      <td>Riobamba</td>\n",
       "      <td>Fundacion de Riobamba</td>\n",
       "      <td>47.57</td>\n",
       "      <td>Quito</td>\n",
       "      <td>Pichincha</td>\n",
       "      <td>B</td>\n",
       "      <td>6</td>\n",
       "      <td>2017</td>\n",
       "      <td>8</td>\n",
       "      <td>33</td>\n",
       "      <td>3</td>\n",
       "      <td>Tuesday</td>\n",
       "    </tr>\n",
       "    <tr>\n",
       "      <th>3054347</th>\n",
       "      <td>3000887</td>\n",
       "      <td>2017-08-15</td>\n",
       "      <td>9</td>\n",
       "      <td>SEAFOOD</td>\n",
       "      <td>16.0</td>\n",
       "      <td>0</td>\n",
       "      <td>Holiday</td>\n",
       "      <td>Local</td>\n",
       "      <td>Riobamba</td>\n",
       "      <td>Fundacion de Riobamba</td>\n",
       "      <td>47.57</td>\n",
       "      <td>Quito</td>\n",
       "      <td>Pichincha</td>\n",
       "      <td>B</td>\n",
       "      <td>6</td>\n",
       "      <td>2017</td>\n",
       "      <td>8</td>\n",
       "      <td>33</td>\n",
       "      <td>3</td>\n",
       "      <td>Tuesday</td>\n",
       "    </tr>\n",
       "  </tbody>\n",
       "</table>\n",
       "</div>"
      ],
      "text/plain": [
       "              id       date  store_nbr                      family  sales  \\\n",
       "3054346  3000886 2017-08-15          9  SCHOOL AND OFFICE SUPPLIES  121.0   \n",
       "3054347  3000887 2017-08-15          9                     SEAFOOD   16.0   \n",
       "\n",
       "         onpromotion holiday_type locale locale_name            description  \\\n",
       "3054346            8      Holiday  Local    Riobamba  Fundacion de Riobamba   \n",
       "3054347            0      Holiday  Local    Riobamba  Fundacion de Riobamba   \n",
       "\n",
       "         dcoilwtico   city      state store_type  cluster  year  month  week  \\\n",
       "3054346       47.57  Quito  Pichincha          B        6  2017      8    33   \n",
       "3054347       47.57  Quito  Pichincha          B        6  2017      8    33   \n",
       "\n",
       "         quarter day_of_week  \n",
       "3054346        3     Tuesday  \n",
       "3054347        3     Tuesday  "
      ]
     },
     "execution_count": 46,
     "metadata": {},
     "output_type": "execute_result"
    }
   ],
   "source": [
    "df_train.tail(2)"
   ]
  },
  {
   "cell_type": "code",
   "execution_count": 47,
   "id": "3e8b926d",
   "metadata": {},
   "outputs": [
    {
     "data": {
      "text/plain": [
       "((3054348, 20), (28512, 19))"
      ]
     },
     "execution_count": 47,
     "metadata": {},
     "output_type": "execute_result"
    }
   ],
   "source": [
    "df_train.shape, df_test.shape"
   ]
  },
  {
   "cell_type": "code",
   "execution_count": 19,
   "id": "d2bc10b7",
   "metadata": {},
   "outputs": [],
   "source": [
    "df = df_train.copy()"
   ]
  },
  {
   "cell_type": "code",
   "execution_count": 21,
   "id": "6f7dae34",
   "metadata": {
    "execution": {
     "iopub.execute_input": "2021-12-11T20:27:19.249530Z",
     "iopub.status.busy": "2021-12-11T20:27:19.248960Z",
     "iopub.status.idle": "2021-12-11T20:27:19.262698Z",
     "shell.execute_reply": "2021-12-11T20:27:19.263174Z",
     "shell.execute_reply.started": "2021-12-11T20:08:28.219454Z"
    },
    "papermill": {
     "duration": 0.058721,
     "end_time": "2021-12-11T20:27:19.263353",
     "exception": false,
     "start_time": "2021-12-11T20:27:19.204632",
     "status": "completed"
    },
    "tags": []
   },
   "outputs": [
    {
     "name": "stdout",
     "output_type": "stream",
     "text": [
      "<class 'pandas.core.frame.DataFrame'>\n",
      "Int64Index: 3054348 entries, 0 to 3054347\n",
      "Data columns (total 20 columns):\n",
      " #   Column        Dtype         \n",
      "---  ------        -----         \n",
      " 0   id            int64         \n",
      " 1   date          datetime64[ns]\n",
      " 2   store_nbr     int64         \n",
      " 3   family        object        \n",
      " 4   sales         float64       \n",
      " 5   onpromotion   int64         \n",
      " 6   holiday_type  object        \n",
      " 7   locale        object        \n",
      " 8   locale_name   object        \n",
      " 9   description   object        \n",
      " 10  dcoilwtico    float64       \n",
      " 11  city          object        \n",
      " 12  state         object        \n",
      " 13  store_type    object        \n",
      " 14  cluster       int64         \n",
      " 15  year          int64         \n",
      " 16  month         int64         \n",
      " 17  week          UInt32        \n",
      " 18  quarter       int64         \n",
      " 19  day_of_week   object        \n",
      "dtypes: UInt32(1), datetime64[ns](1), float64(2), int64(7), object(9)\n",
      "memory usage: 480.6+ MB\n"
     ]
    }
   ],
   "source": [
    "df.info()"
   ]
  },
  {
   "cell_type": "code",
   "execution_count": 50,
   "id": "7220f84d",
   "metadata": {
    "execution": {
     "iopub.execute_input": "2021-12-11T20:27:19.352300Z",
     "iopub.status.busy": "2021-12-11T20:27:19.351364Z",
     "iopub.status.idle": "2021-12-11T20:27:23.059348Z",
     "shell.execute_reply": "2021-12-11T20:27:23.058856Z",
     "shell.execute_reply.started": "2021-12-11T20:08:28.245465Z"
    },
    "papermill": {
     "duration": 3.753179,
     "end_time": "2021-12-11T20:27:23.059483",
     "exception": false,
     "start_time": "2021-12-11T20:27:19.306304",
     "status": "completed"
    },
    "tags": []
   },
   "outputs": [
    {
     "data": {
      "text/html": [
       "<div>\n",
       "<style scoped>\n",
       "    .dataframe tbody tr th:only-of-type {\n",
       "        vertical-align: middle;\n",
       "    }\n",
       "\n",
       "    .dataframe tbody tr th {\n",
       "        vertical-align: top;\n",
       "    }\n",
       "\n",
       "    .dataframe thead th {\n",
       "        text-align: right;\n",
       "    }\n",
       "</style>\n",
       "<table border=\"1\" class=\"dataframe\">\n",
       "  <thead>\n",
       "    <tr style=\"text-align: right;\">\n",
       "      <th></th>\n",
       "      <th>id</th>\n",
       "      <th>store_nbr</th>\n",
       "      <th>sales</th>\n",
       "      <th>onpromotion</th>\n",
       "      <th>dcoilwtico</th>\n",
       "      <th>cluster</th>\n",
       "      <th>year</th>\n",
       "      <th>month</th>\n",
       "      <th>week</th>\n",
       "      <th>quarter</th>\n",
       "    </tr>\n",
       "  </thead>\n",
       "  <tbody>\n",
       "    <tr>\n",
       "      <th>count</th>\n",
       "      <td>3.054348e+06</td>\n",
       "      <td>3.054348e+06</td>\n",
       "      <td>3.054348e+06</td>\n",
       "      <td>3.054348e+06</td>\n",
       "      <td>3.054348e+06</td>\n",
       "      <td>3.054348e+06</td>\n",
       "      <td>3.054348e+06</td>\n",
       "      <td>3.054348e+06</td>\n",
       "      <td>3.054348e+06</td>\n",
       "      <td>3.054348e+06</td>\n",
       "    </tr>\n",
       "    <tr>\n",
       "      <th>mean</th>\n",
       "      <td>1.504277e+06</td>\n",
       "      <td>2.750000e+01</td>\n",
       "      <td>3.590209e+02</td>\n",
       "      <td>2.617480e+00</td>\n",
       "      <td>6.782500e+01</td>\n",
       "      <td>8.481481e+00</td>\n",
       "      <td>2.014842e+03</td>\n",
       "      <td>6.222870e+00</td>\n",
       "      <td>2.530863e+01</td>\n",
       "      <td>2.413652e+00</td>\n",
       "    </tr>\n",
       "    <tr>\n",
       "      <th>std</th>\n",
       "      <td>8.662610e+05</td>\n",
       "      <td>1.558579e+01</td>\n",
       "      <td>1.107286e+03</td>\n",
       "      <td>1.225494e+01</td>\n",
       "      <td>2.568059e+01</td>\n",
       "      <td>4.649735e+00</td>\n",
       "      <td>1.345607e+00</td>\n",
       "      <td>3.374251e+00</td>\n",
       "      <td>1.475051e+01</td>\n",
       "      <td>1.095690e+00</td>\n",
       "    </tr>\n",
       "    <tr>\n",
       "      <th>min</th>\n",
       "      <td>0.000000e+00</td>\n",
       "      <td>1.000000e+00</td>\n",
       "      <td>0.000000e+00</td>\n",
       "      <td>0.000000e+00</td>\n",
       "      <td>2.619000e+01</td>\n",
       "      <td>1.000000e+00</td>\n",
       "      <td>2.013000e+03</td>\n",
       "      <td>1.000000e+00</td>\n",
       "      <td>1.000000e+00</td>\n",
       "      <td>1.000000e+00</td>\n",
       "    </tr>\n",
       "    <tr>\n",
       "      <th>25%</th>\n",
       "      <td>7.546768e+05</td>\n",
       "      <td>1.400000e+01</td>\n",
       "      <td>0.000000e+00</td>\n",
       "      <td>0.000000e+00</td>\n",
       "      <td>4.636667e+01</td>\n",
       "      <td>4.000000e+00</td>\n",
       "      <td>2.014000e+03</td>\n",
       "      <td>3.000000e+00</td>\n",
       "      <td>1.300000e+01</td>\n",
       "      <td>1.000000e+00</td>\n",
       "    </tr>\n",
       "    <tr>\n",
       "      <th>50%</th>\n",
       "      <td>1.507572e+06</td>\n",
       "      <td>2.750000e+01</td>\n",
       "      <td>1.100000e+01</td>\n",
       "      <td>0.000000e+00</td>\n",
       "      <td>5.329167e+01</td>\n",
       "      <td>8.500000e+00</td>\n",
       "      <td>2.015000e+03</td>\n",
       "      <td>6.000000e+00</td>\n",
       "      <td>2.500000e+01</td>\n",
       "      <td>2.000000e+00</td>\n",
       "    </tr>\n",
       "    <tr>\n",
       "      <th>75%</th>\n",
       "      <td>2.255120e+06</td>\n",
       "      <td>4.100000e+01</td>\n",
       "      <td>1.960110e+02</td>\n",
       "      <td>0.000000e+00</td>\n",
       "      <td>9.573000e+01</td>\n",
       "      <td>1.300000e+01</td>\n",
       "      <td>2.016000e+03</td>\n",
       "      <td>9.000000e+00</td>\n",
       "      <td>3.800000e+01</td>\n",
       "      <td>3.000000e+00</td>\n",
       "    </tr>\n",
       "    <tr>\n",
       "      <th>max</th>\n",
       "      <td>3.000887e+06</td>\n",
       "      <td>5.400000e+01</td>\n",
       "      <td>1.247170e+05</td>\n",
       "      <td>7.410000e+02</td>\n",
       "      <td>1.106200e+02</td>\n",
       "      <td>1.700000e+01</td>\n",
       "      <td>2.017000e+03</td>\n",
       "      <td>1.200000e+01</td>\n",
       "      <td>5.300000e+01</td>\n",
       "      <td>4.000000e+00</td>\n",
       "    </tr>\n",
       "  </tbody>\n",
       "</table>\n",
       "</div>"
      ],
      "text/plain": [
       "                 id     store_nbr         sales   onpromotion    dcoilwtico  \\\n",
       "count  3.054348e+06  3.054348e+06  3.054348e+06  3.054348e+06  3.054348e+06   \n",
       "mean   1.504277e+06  2.750000e+01  3.590209e+02  2.617480e+00  6.782500e+01   \n",
       "std    8.662610e+05  1.558579e+01  1.107286e+03  1.225494e+01  2.568059e+01   \n",
       "min    0.000000e+00  1.000000e+00  0.000000e+00  0.000000e+00  2.619000e+01   \n",
       "25%    7.546768e+05  1.400000e+01  0.000000e+00  0.000000e+00  4.636667e+01   \n",
       "50%    1.507572e+06  2.750000e+01  1.100000e+01  0.000000e+00  5.329167e+01   \n",
       "75%    2.255120e+06  4.100000e+01  1.960110e+02  0.000000e+00  9.573000e+01   \n",
       "max    3.000887e+06  5.400000e+01  1.247170e+05  7.410000e+02  1.106200e+02   \n",
       "\n",
       "            cluster          year         month          week       quarter  \n",
       "count  3.054348e+06  3.054348e+06  3.054348e+06  3.054348e+06  3.054348e+06  \n",
       "mean   8.481481e+00  2.014842e+03  6.222870e+00  2.530863e+01  2.413652e+00  \n",
       "std    4.649735e+00  1.345607e+00  3.374251e+00  1.475051e+01  1.095690e+00  \n",
       "min    1.000000e+00  2.013000e+03  1.000000e+00  1.000000e+00  1.000000e+00  \n",
       "25%    4.000000e+00  2.014000e+03  3.000000e+00  1.300000e+01  1.000000e+00  \n",
       "50%    8.500000e+00  2.015000e+03  6.000000e+00  2.500000e+01  2.000000e+00  \n",
       "75%    1.300000e+01  2.016000e+03  9.000000e+00  3.800000e+01  3.000000e+00  \n",
       "max    1.700000e+01  2.017000e+03  1.200000e+01  5.300000e+01  4.000000e+00  "
      ]
     },
     "execution_count": 50,
     "metadata": {},
     "output_type": "execute_result"
    }
   ],
   "source": [
    "df.describe()"
   ]
  },
  {
   "cell_type": "code",
   "execution_count": 20,
   "id": "07b7549a",
   "metadata": {},
   "outputs": [],
   "source": [
    "df['date'] = pd.to_datetime(df['date'], format=\"%m/%d/%Y\")\n",
    "df_test['date'] = pd.to_datetime(df_test['date'], format=\"%m/%d/%Y\")"
   ]
  },
  {
   "cell_type": "code",
   "execution_count": 52,
   "id": "caae3351",
   "metadata": {
    "execution": {
     "iopub.execute_input": "2021-12-11T20:27:23.237093Z",
     "iopub.status.busy": "2021-12-11T20:27:23.236459Z",
     "iopub.status.idle": "2021-12-11T20:27:23.258845Z",
     "shell.execute_reply": "2021-12-11T20:27:23.259642Z",
     "shell.execute_reply.started": "2021-12-11T20:08:34.181150Z"
    },
    "papermill": {
     "duration": 0.071102,
     "end_time": "2021-12-11T20:27:23.259885",
     "exception": false,
     "start_time": "2021-12-11T20:27:23.188783",
     "status": "completed"
    },
    "tags": []
   },
   "outputs": [
    {
     "name": "stdout",
     "output_type": "stream",
     "text": [
      "training data from 2013-01-01 00:00:00 to 2017-08-15 00:00:00 and test data from 2017-08-16 00:00:00 to 2017-08-31 00:00:00\n"
     ]
    }
   ],
   "source": [
    "print(f'training data from {df.date.min()} to {df.date.max()} and test data from {df_test.date.min()} to {df_test.date.max()}')"
   ]
  },
  {
   "cell_type": "markdown",
   "id": "f9fcc242",
   "metadata": {},
   "source": [
    "__Historical data of around 4.5yrs and test data of next 15 days__"
   ]
  },
  {
   "cell_type": "code",
   "execution_count": null,
   "id": "634d4bc5",
   "metadata": {},
   "outputs": [],
   "source": []
  },
  {
   "cell_type": "code",
   "execution_count": 23,
   "id": "8cfba94c",
   "metadata": {
    "execution": {
     "iopub.execute_input": "2021-12-11T20:27:23.494526Z",
     "iopub.status.busy": "2021-12-11T20:27:23.493901Z",
     "iopub.status.idle": "2021-12-11T20:27:23.519224Z",
     "shell.execute_reply": "2021-12-11T20:27:23.518675Z",
     "shell.execute_reply.started": "2021-12-11T20:08:34.214356Z"
    },
    "papermill": {
     "duration": 0.125733,
     "end_time": "2021-12-11T20:27:23.519376",
     "exception": false,
     "start_time": "2021-12-11T20:27:23.393643",
     "status": "completed"
    },
    "tags": []
   },
   "outputs": [],
   "source": [
    "df['date'] = df['date'].dt.floor('d')"
   ]
  },
  {
   "cell_type": "code",
   "execution_count": 54,
   "id": "f86925ac",
   "metadata": {},
   "outputs": [
    {
     "data": {
      "text/plain": [
       "<AxesSubplot:>"
      ]
     },
     "execution_count": 54,
     "metadata": {},
     "output_type": "execute_result"
    },
    {
     "data": {
      "image/png": "[encoded data removed]",
      "text/plain": [
       "<Figure size 1296x576 with 1 Axes>"
      ]
     },
     "metadata": {
      "needs_background": "light"
     },
     "output_type": "display_data"
    }
   ],
   "source": [
    "df.dcoilwtico.hist()"
   ]
  },
  {
   "cell_type": "code",
   "execution_count": 21,
   "id": "ba20d898",
   "metadata": {},
   "outputs": [],
   "source": [
    "df[\"dcoilwtico_cat\"] = pd.cut(df[\"dcoilwtico\"],\n",
    "                               bins=[0, 40, 50, 60, 90,100, np.inf],\n",
    "                               labels=[1, 2, 3, 4, 5,6])\n",
    "df_test[\"dcoilwtico_cat\"] = pd.cut(df_test[\"dcoilwtico\"],\n",
    "                               bins=[0, 40, 50, 60, 90,100, np.inf],\n",
    "                               labels=[1, 2, 3, 4, 5,6])"
   ]
  },
  {
   "cell_type": "code",
   "execution_count": null,
   "id": "fd0bc1a8",
   "metadata": {},
   "outputs": [],
   "source": []
  },
  {
   "cell_type": "code",
   "execution_count": 56,
   "id": "463f1110",
   "metadata": {},
   "outputs": [
    {
     "data": {
      "text/plain": [
       "2    987228\n",
       "5    661122\n",
       "3    507870\n",
       "6    479358\n",
       "1    247698\n",
       "4    171072\n",
       "Name: dcoilwtico_cat, dtype: int64"
      ]
     },
     "execution_count": 56,
     "metadata": {},
     "output_type": "execute_result"
    }
   ],
   "source": [
    "df[\"dcoilwtico_cat\"].value_counts()"
   ]
  },
  {
   "cell_type": "code",
   "execution_count": 57,
   "id": "a9c59b22",
   "metadata": {},
   "outputs": [],
   "source": [
    "# def formatting(df):\n",
    "#     df.date = df.date.dt.to_period('D')\n",
    "#     df = df.set_index(['store_nbr', 'family', 'date']).sort_index()\n",
    "#     return df"
   ]
  },
  {
   "cell_type": "code",
   "execution_count": 22,
   "id": "4dc1daef",
   "metadata": {},
   "outputs": [
    {
     "name": "stdout",
     "output_type": "stream",
     "text": [
      "Categorical variables:\n",
      "['family', 'holiday_type', 'locale', 'locale_name', 'description', 'city', 'state', 'store_type', 'day_of_week']\n"
     ]
    }
   ],
   "source": [
    "s = (df.dtypes == 'object')\n",
    "object_cols = list(s[s].index)\n",
    "\n",
    "print(\"Categorical variables:\")\n",
    "print(object_cols)"
   ]
  },
  {
   "cell_type": "code",
   "execution_count": 59,
   "id": "d415320e",
   "metadata": {},
   "outputs": [
    {
     "data": {
      "text/plain": [
       "Sunday       0.144691\n",
       "Thursday     0.143524\n",
       "Tuesday      0.142940\n",
       "Saturday     0.142940\n",
       "Wednesday    0.142357\n",
       "Friday       0.141774\n",
       "Monday       0.141774\n",
       "Name: day_of_week, dtype: float64"
      ]
     },
     "execution_count": 59,
     "metadata": {},
     "output_type": "execute_result"
    }
   ],
   "source": [
    "df.day_of_week.value_counts()/len(df)"
   ]
  },
  {
   "cell_type": "code",
   "execution_count": 60,
   "id": "a2f72cdd",
   "metadata": {},
   "outputs": [
    {
     "data": {
      "text/plain": [
       "Others                            0.835473\n",
       "Ecuador                           0.085764\n",
       "Guayaquil                         0.006418\n",
       "Riobamba                          0.005834\n",
       "Guaranda                          0.005251\n",
       "Latacunga                         0.005251\n",
       "Quito                             0.004667\n",
       "Ambato                            0.004667\n",
       "Cuenca                            0.003501\n",
       "Esmeraldas                        0.002917\n",
       "Cayambe                           0.002917\n",
       "Santo Domingo                     0.002917\n",
       "El Carmen                         0.002917\n",
       "Machala                           0.002917\n",
       "Imbabura                          0.002917\n",
       "Puyo                              0.002917\n",
       "Libertad                          0.002917\n",
       "Cotopaxi                          0.002917\n",
       "Manta                             0.002917\n",
       "Ibarra                            0.002334\n",
       "Quevedo                           0.002334\n",
       "Santo Domingo de los Tsachilas    0.002334\n",
       "Santa Elena                       0.002334\n",
       "Loja                              0.002334\n",
       "Salinas                           0.002334\n",
       "Name: locale_name, dtype: float64"
      ]
     },
     "execution_count": 60,
     "metadata": {},
     "output_type": "execute_result"
    }
   ],
   "source": [
    "df.locale_name.value_counts()/len(df)"
   ]
  },
  {
   "cell_type": "code",
   "execution_count": 61,
   "id": "1ab9aac3",
   "metadata": {},
   "outputs": [],
   "source": [
    "# def masking(df):\n",
    "#     df['locale_name']= df['locale_name'].mask(df['locale_name'].map(df['locale_name'].value_counts(normalize=True)) < 0.003, 'Other')\n",
    "#     df['city']= df['city'].mask(df['city'].map(df['city'].value_counts(normalize=True)) < 0.03, 'Other')\n",
    "#     df['state']= df['state'].mask(df['state'].map(df['state'].value_counts(normalize=True)) < 0.03, 'Other')\n",
    "#     return df"
   ]
  },
  {
   "cell_type": "code",
   "execution_count": 23,
   "id": "bf1ecd8f",
   "metadata": {},
   "outputs": [],
   "source": [
    "def masking2(df,df1):\n",
    "    df.loc[~df[\"locale_name\"].isin(df1.locale_name.value_counts()[:6].index.tolist()), \"locale_name\"] = \"Other\"\n",
    "    df.loc[~df[\"city\"].isin(df1.locale_name.value_counts()[:6].index.tolist()), \"city\"] = \"Other\"\n",
    "    df.loc[~df[\"state\"].isin(df1.locale_name.value_counts()[:6].index.tolist()), \"state\"] = \"Other\"\n",
    "    return df"
   ]
  },
  {
   "cell_type": "code",
   "execution_count": 24,
   "id": "b5813d3f",
   "metadata": {},
   "outputs": [],
   "source": [
    "df = masking2(df,df)\n",
    "df_test = masking2(df_test,df)"
   ]
  },
  {
   "cell_type": "code",
   "execution_count": 64,
   "id": "eb1bd4a7",
   "metadata": {},
   "outputs": [
    {
     "data": {
      "text/plain": [
       "Others       0.835473\n",
       "Ecuador      0.085764\n",
       "Other        0.056009\n",
       "Guayaquil    0.006418\n",
       "Riobamba     0.005834\n",
       "Guaranda     0.005251\n",
       "Latacunga    0.005251\n",
       "Name: locale_name, dtype: float64"
      ]
     },
     "execution_count": 64,
     "metadata": {},
     "output_type": "execute_result"
    }
   ],
   "source": [
    "df.locale_name.value_counts()/len(df)"
   ]
  },
  {
   "cell_type": "code",
   "execution_count": 65,
   "id": "fffee816",
   "metadata": {},
   "outputs": [
    {
     "data": {
      "text/plain": [
       "Other        0.814815\n",
       "Guayaquil    0.148148\n",
       "Riobamba     0.018519\n",
       "Guaranda     0.018519\n",
       "Name: city, dtype: float64"
      ]
     },
     "execution_count": 65,
     "metadata": {},
     "output_type": "execute_result"
    }
   ],
   "source": [
    "df.city.value_counts()/len(df)"
   ]
  },
  {
   "cell_type": "code",
   "execution_count": 66,
   "id": "808b0af3",
   "metadata": {},
   "outputs": [
    {
     "data": {
      "text/plain": [
       "Others      0.835473\n",
       "National    0.085764\n",
       "Local       0.068261\n",
       "Regional    0.010502\n",
       "Name: locale, dtype: float64"
      ]
     },
     "execution_count": 66,
     "metadata": {},
     "output_type": "execute_result"
    }
   ],
   "source": [
    "df.locale.value_counts()/len(df)"
   ]
  },
  {
   "cell_type": "code",
   "execution_count": 67,
   "id": "ec000aca",
   "metadata": {},
   "outputs": [
    {
     "data": {
      "text/plain": [
       "Other    1.0\n",
       "Name: state, dtype: float64"
      ]
     },
     "execution_count": 67,
     "metadata": {},
     "output_type": "execute_result"
    }
   ],
   "source": [
    "df.state.value_counts()/len(df)"
   ]
  },
  {
   "cell_type": "code",
   "execution_count": 25,
   "id": "60eeb2bb",
   "metadata": {},
   "outputs": [],
   "source": [
    "df_test.drop('description',inplace = True,axis = 1)\n",
    "# too many categories\n",
    "df.drop('description',inplace = True,axis = 1)\n",
    "object_cols.remove('description')"
   ]
  },
  {
   "cell_type": "markdown",
   "id": "538cb727",
   "metadata": {},
   "source": [
    "__Splitting the dataset into 2 parts__ \n",
    "\n",
    "Taking data upto April in training set and April to Mid Aug in evaluation set. (Approx 10%)"
   ]
  },
  {
   "cell_type": "code",
   "execution_count": 26,
   "id": "860fa15a",
   "metadata": {},
   "outputs": [
    {
     "data": {
      "text/plain": [
       "((2803086, 20), (251262, 20), (3054348, 20), 8.963763509218055)"
      ]
     },
     "execution_count": 26,
     "metadata": {},
     "output_type": "execute_result"
    }
   ],
   "source": [
    "training_df = df[df.date<\"2017-04-01\"]\n",
    "eval_df = df[df.date>=\"2017-04-01\"]\n",
    "training_df.shape, eval_df.shape,df.shape, eval_df.shape[0]*100/training_df.shape[0]"
   ]
  },
  {
   "cell_type": "markdown",
   "id": "b23edb62",
   "metadata": {},
   "source": [
    "__We are doing this step now because later on we are going to do feature engineering. .. prior to this step we havent done any step which can do data leakage__"
   ]
  },
  {
   "cell_type": "code",
   "execution_count": 70,
   "id": "cd7ab118",
   "metadata": {},
   "outputs": [
    {
     "data": {
      "text/plain": [
       "Index(['id', 'date', 'store_nbr', 'family', 'sales', 'onpromotion',\n",
       "       'holiday_type', 'locale', 'locale_name', 'dcoilwtico', 'city', 'state',\n",
       "       'store_type', 'cluster', 'year', 'month', 'week', 'quarter',\n",
       "       'day_of_week', 'dcoilwtico_cat'],\n",
       "      dtype='object')"
      ]
     },
     "execution_count": 70,
     "metadata": {},
     "output_type": "execute_result"
    }
   ],
   "source": [
    "df.columns"
   ]
  },
  {
   "cell_type": "code",
   "execution_count": 71,
   "id": "aff868fa",
   "metadata": {},
   "outputs": [
    {
     "data": {
      "text/plain": [
       "Index(['id', 'date', 'store_nbr', 'family', 'onpromotion', 'holiday_type',\n",
       "       'locale', 'locale_name', 'dcoilwtico', 'city', 'state', 'store_type',\n",
       "       'cluster', 'year', 'month', 'week', 'quarter', 'day_of_week',\n",
       "       'dcoilwtico_cat'],\n",
       "      dtype='object')"
      ]
     },
     "execution_count": 71,
     "metadata": {},
     "output_type": "execute_result"
    }
   ],
   "source": [
    "df_test.columns"
   ]
  },
  {
   "cell_type": "code",
   "execution_count": 72,
   "id": "bfb066d6",
   "metadata": {},
   "outputs": [
    {
     "data": {
      "text/plain": [
       "['family',\n",
       " 'holiday_type',\n",
       " 'locale',\n",
       " 'locale_name',\n",
       " 'city',\n",
       " 'state',\n",
       " 'store_type',\n",
       " 'day_of_week']"
      ]
     },
     "execution_count": 72,
     "metadata": {},
     "output_type": "execute_result"
    }
   ],
   "source": [
    "object_cols"
   ]
  },
  {
   "cell_type": "code",
   "execution_count": 73,
   "id": "21e86eb7",
   "metadata": {},
   "outputs": [
    {
     "data": {
      "text/plain": [
       "(3054348, 20)"
      ]
     },
     "execution_count": 73,
     "metadata": {},
     "output_type": "execute_result"
    }
   ],
   "source": [
    "df.shape"
   ]
  },
  {
   "cell_type": "code",
   "execution_count": 27,
   "id": "fa46d97a",
   "metadata": {},
   "outputs": [],
   "source": [
    "from sklearn.preprocessing import OneHotEncoder\n",
    "\n",
    "# Apply one-hot encoder to each column with categorical data\n",
    "OH_encoder = OneHotEncoder(handle_unknown='ignore', sparse=False)\n",
    "OH_cols_train = pd.DataFrame(OH_encoder.fit_transform(training_df[object_cols]))\n",
    "OH_cols_valid = pd.DataFrame(OH_encoder.transform(eval_df[object_cols]))\n"
   ]
  },
  {
   "cell_type": "code",
   "execution_count": 28,
   "id": "83479373",
   "metadata": {},
   "outputs": [],
   "source": [
    "# One-hot encoding removed index; put it back\n",
    "OH_cols_train.index = training_df.index\n",
    "OH_cols_valid.index = eval_df.index"
   ]
  },
  {
   "cell_type": "code",
   "execution_count": 29,
   "id": "9967aba1",
   "metadata": {},
   "outputs": [],
   "source": [
    "\n",
    "# Remove categorical columns (will replace with one-hot encoding)\n",
    "num_train = training_df.drop(object_cols, axis=1)\n",
    "num_valid = eval_df.drop(object_cols, axis=1)\n",
    "\n",
    "# Add one-hot encoded columns to numerical features\n",
    "OH_train = pd.concat([num_train, OH_cols_train], axis=1)\n",
    "OH_valid = pd.concat([num_valid, OH_cols_valid], axis=1)"
   ]
  },
  {
   "cell_type": "code",
   "execution_count": 30,
   "id": "f69b5b3f",
   "metadata": {},
   "outputs": [],
   "source": [
    "OH_cols_test = pd.DataFrame(OH_encoder.transform(df_test[object_cols]))\n",
    "OH_cols_test.index = df_test.index\n",
    "num_test = eval_df.drop(object_cols, axis=1)\n",
    "OH_test = pd.concat([num_test, OH_cols_test], axis=1)"
   ]
  },
  {
   "cell_type": "code",
   "execution_count": 71,
   "id": "9d0fd0a0",
   "metadata": {},
   "outputs": [
    {
     "data": {
      "text/plain": [
       "((2803086, 80), (251262, 80), (279774, 80))"
      ]
     },
     "execution_count": 71,
     "metadata": {},
     "output_type": "execute_result"
    }
   ],
   "source": [
    "OH_train.shape, OH_valid.shape, OH_test.shape"
   ]
  },
  {
   "cell_type": "code",
   "execution_count": 32,
   "id": "2c53b9fd",
   "metadata": {},
   "outputs": [
    {
     "ename": "NameError",
     "evalue": "name 'num_test' is not defined",
     "output_type": "error",
     "traceback": [
      "\u001b[1;31m---------------------------------------------------------------------------\u001b[0m",
      "\u001b[1;31mNameError\u001b[0m                                 Traceback (most recent call last)",
      "\u001b[1;32m<ipython-input-32-17cfa0b11428>\u001b[0m in \u001b[0;36m<module>\u001b[1;34m\u001b[0m\n\u001b[1;32m----> 1\u001b[1;33m \u001b[1;32mdel\u001b[0m \u001b[0mnum_test\u001b[0m\u001b[1;33m,\u001b[0m\u001b[0mOH_cols_test\u001b[0m\u001b[1;33m,\u001b[0m \u001b[0mnum_train\u001b[0m\u001b[1;33m,\u001b[0m \u001b[0mnum_valid\u001b[0m\u001b[1;33m,\u001b[0m \u001b[0mOH_cols_train\u001b[0m\u001b[1;33m,\u001b[0m \u001b[0mOH_cols_valid\u001b[0m\u001b[1;33m,\u001b[0m \u001b[0mtrain\u001b[0m\u001b[1;33m,\u001b[0m \u001b[0mtest\u001b[0m\u001b[1;33m,\u001b[0m \u001b[0moil\u001b[0m\u001b[1;33m,\u001b[0m \u001b[0mcalendar\u001b[0m\u001b[1;33m,\u001b[0m \u001b[0mholidays_events\u001b[0m\u001b[1;33m,\u001b[0m \u001b[0mstores\u001b[0m\u001b[1;33m,\u001b[0m \u001b[0mdimDate\u001b[0m\u001b[1;33m\u001b[0m\u001b[1;33m\u001b[0m\u001b[0m\n\u001b[0m",
      "\u001b[1;31mNameError\u001b[0m: name 'num_test' is not defined"
     ]
    }
   ],
   "source": [
    "# del num_test,OH_cols_test, num_train, num_valid, OH_cols_train, OH_cols_valid, train, test, oil, calendar, holidays_events, stores, dimDate"
   ]
  },
  {
   "cell_type": "code",
   "execution_count": 79,
   "id": "74e456fd",
   "metadata": {},
   "outputs": [],
   "source": [
    "# df = formatting(df)\n",
    "# df_test = formatting(df_test)"
   ]
  },
  {
   "cell_type": "code",
   "execution_count": 81,
   "id": "948012e7",
   "metadata": {},
   "outputs": [
    {
     "data": {
      "text/html": [
       "<div>\n",
       "<style scoped>\n",
       "    .dataframe tbody tr th:only-of-type {\n",
       "        vertical-align: middle;\n",
       "    }\n",
       "\n",
       "    .dataframe tbody tr th {\n",
       "        vertical-align: top;\n",
       "    }\n",
       "\n",
       "    .dataframe thead th {\n",
       "        text-align: right;\n",
       "    }\n",
       "</style>\n",
       "<table border=\"1\" class=\"dataframe\">\n",
       "  <thead>\n",
       "    <tr style=\"text-align: right;\">\n",
       "      <th></th>\n",
       "      <th>id</th>\n",
       "      <th>date</th>\n",
       "      <th>store_nbr</th>\n",
       "      <th>family</th>\n",
       "      <th>sales</th>\n",
       "      <th>onpromotion</th>\n",
       "      <th>holiday_type</th>\n",
       "      <th>locale</th>\n",
       "      <th>locale_name</th>\n",
       "      <th>dcoilwtico</th>\n",
       "      <th>city</th>\n",
       "      <th>state</th>\n",
       "      <th>store_type</th>\n",
       "      <th>cluster</th>\n",
       "      <th>year</th>\n",
       "      <th>month</th>\n",
       "      <th>week</th>\n",
       "      <th>quarter</th>\n",
       "      <th>day_of_week</th>\n",
       "      <th>dcoilwtico_cat</th>\n",
       "    </tr>\n",
       "  </thead>\n",
       "  <tbody>\n",
       "    <tr>\n",
       "      <th>0</th>\n",
       "      <td>0</td>\n",
       "      <td>2013-01-01</td>\n",
       "      <td>1</td>\n",
       "      <td>AUTOMOTIVE</td>\n",
       "      <td>0.0</td>\n",
       "      <td>0</td>\n",
       "      <td>Holiday</td>\n",
       "      <td>National</td>\n",
       "      <td>Ecuador</td>\n",
       "      <td>93.14</td>\n",
       "      <td>Quito</td>\n",
       "      <td>Pichincha</td>\n",
       "      <td>D</td>\n",
       "      <td>13</td>\n",
       "      <td>2013</td>\n",
       "      <td>1</td>\n",
       "      <td>1</td>\n",
       "      <td>1</td>\n",
       "      <td>Tuesday</td>\n",
       "      <td>5</td>\n",
       "    </tr>\n",
       "    <tr>\n",
       "      <th>1</th>\n",
       "      <td>1</td>\n",
       "      <td>2013-01-01</td>\n",
       "      <td>1</td>\n",
       "      <td>BABY CARE</td>\n",
       "      <td>0.0</td>\n",
       "      <td>0</td>\n",
       "      <td>Holiday</td>\n",
       "      <td>National</td>\n",
       "      <td>Ecuador</td>\n",
       "      <td>93.14</td>\n",
       "      <td>Quito</td>\n",
       "      <td>Pichincha</td>\n",
       "      <td>D</td>\n",
       "      <td>13</td>\n",
       "      <td>2013</td>\n",
       "      <td>1</td>\n",
       "      <td>1</td>\n",
       "      <td>1</td>\n",
       "      <td>Tuesday</td>\n",
       "      <td>5</td>\n",
       "    </tr>\n",
       "  </tbody>\n",
       "</table>\n",
       "</div>"
      ],
      "text/plain": [
       "   id       date  store_nbr      family  sales  onpromotion holiday_type  \\\n",
       "0   0 2013-01-01          1  AUTOMOTIVE    0.0            0      Holiday   \n",
       "1   1 2013-01-01          1   BABY CARE    0.0            0      Holiday   \n",
       "\n",
       "     locale locale_name  dcoilwtico   city      state store_type  cluster  \\\n",
       "0  National     Ecuador       93.14  Quito  Pichincha          D       13   \n",
       "1  National     Ecuador       93.14  Quito  Pichincha          D       13   \n",
       "\n",
       "   year  month  week  quarter day_of_week dcoilwtico_cat  \n",
       "0  2013      1     1        1     Tuesday              5  \n",
       "1  2013      1     1        1     Tuesday              5  "
      ]
     },
     "execution_count": 81,
     "metadata": {},
     "output_type": "execute_result"
    }
   ],
   "source": [
    "df.head(2)"
   ]
  },
  {
   "cell_type": "markdown",
   "id": "fe1e6faa",
   "metadata": {
    "papermill": {
     "duration": 0.044977,
     "end_time": "2021-12-11T20:27:23.934937",
     "exception": false,
     "start_time": "2021-12-11T20:27:23.889960",
     "status": "completed"
    },
    "tags": []
   },
   "source": [
    "__MISSING VALUE CHECK__"
   ]
  },
  {
   "cell_type": "code",
   "execution_count": 72,
   "id": "7d349d23",
   "metadata": {
    "execution": {
     "iopub.execute_input": "2021-12-11T20:27:24.027822Z",
     "iopub.status.busy": "2021-12-11T20:27:24.026860Z",
     "iopub.status.idle": "2021-12-11T20:27:24.041312Z",
     "shell.execute_reply": "2021-12-11T20:27:24.040812Z",
     "shell.execute_reply.started": "2021-12-11T20:08:34.365211Z"
    },
    "papermill": {
     "duration": 0.062128,
     "end_time": "2021-12-11T20:27:24.041478",
     "exception": false,
     "start_time": "2021-12-11T20:27:23.979350",
     "status": "completed"
    },
    "tags": []
   },
   "outputs": [
    {
     "data": {
      "text/plain": [
       "id                0.0\n",
       "date              0.0\n",
       "store_nbr         0.0\n",
       "family            0.0\n",
       "sales             0.0\n",
       "onpromotion       0.0\n",
       "holiday_type      0.0\n",
       "locale            0.0\n",
       "locale_name       0.0\n",
       "dcoilwtico        0.0\n",
       "city              0.0\n",
       "state             0.0\n",
       "store_type        0.0\n",
       "cluster           0.0\n",
       "year              0.0\n",
       "month             0.0\n",
       "week              0.0\n",
       "quarter           0.0\n",
       "day_of_week       0.0\n",
       "dcoilwtico_cat    0.0\n",
       "dtype: float64"
      ]
     },
     "execution_count": 72,
     "metadata": {},
     "output_type": "execute_result"
    }
   ],
   "source": [
    "df.isna().sum()*100/len(df) # Percent of null values"
   ]
  },
  {
   "cell_type": "code",
   "execution_count": 81,
   "id": "0858515d",
   "metadata": {},
   "outputs": [
    {
     "data": {
      "text/html": [
       "<div>\n",
       "<style scoped>\n",
       "    .dataframe tbody tr th:only-of-type {\n",
       "        vertical-align: middle;\n",
       "    }\n",
       "\n",
       "    .dataframe tbody tr th {\n",
       "        vertical-align: top;\n",
       "    }\n",
       "\n",
       "    .dataframe thead th {\n",
       "        text-align: right;\n",
       "    }\n",
       "</style>\n",
       "<table border=\"1\" class=\"dataframe\">\n",
       "  <thead>\n",
       "    <tr style=\"text-align: right;\">\n",
       "      <th></th>\n",
       "      <th>id</th>\n",
       "      <th>date</th>\n",
       "      <th>store_nbr</th>\n",
       "      <th>family</th>\n",
       "      <th>sales</th>\n",
       "      <th>onpromotion</th>\n",
       "      <th>holiday_type</th>\n",
       "      <th>locale</th>\n",
       "      <th>locale_name</th>\n",
       "      <th>dcoilwtico</th>\n",
       "      <th>city</th>\n",
       "      <th>state</th>\n",
       "      <th>store_type</th>\n",
       "      <th>cluster</th>\n",
       "      <th>year</th>\n",
       "      <th>month</th>\n",
       "      <th>week</th>\n",
       "      <th>quarter</th>\n",
       "      <th>day_of_week</th>\n",
       "      <th>dcoilwtico_cat</th>\n",
       "    </tr>\n",
       "  </thead>\n",
       "  <tbody>\n",
       "    <tr>\n",
       "      <th>0</th>\n",
       "      <td>0</td>\n",
       "      <td>2013-01-01</td>\n",
       "      <td>1</td>\n",
       "      <td>AUTOMOTIVE</td>\n",
       "      <td>0.0</td>\n",
       "      <td>0</td>\n",
       "      <td>Holiday</td>\n",
       "      <td>National</td>\n",
       "      <td>Ecuador</td>\n",
       "      <td>93.14</td>\n",
       "      <td>Other</td>\n",
       "      <td>Other</td>\n",
       "      <td>D</td>\n",
       "      <td>13</td>\n",
       "      <td>2013</td>\n",
       "      <td>1</td>\n",
       "      <td>1</td>\n",
       "      <td>1</td>\n",
       "      <td>Tuesday</td>\n",
       "      <td>5</td>\n",
       "    </tr>\n",
       "    <tr>\n",
       "      <th>1</th>\n",
       "      <td>1</td>\n",
       "      <td>2013-01-01</td>\n",
       "      <td>1</td>\n",
       "      <td>BABY CARE</td>\n",
       "      <td>0.0</td>\n",
       "      <td>0</td>\n",
       "      <td>Holiday</td>\n",
       "      <td>National</td>\n",
       "      <td>Ecuador</td>\n",
       "      <td>93.14</td>\n",
       "      <td>Other</td>\n",
       "      <td>Other</td>\n",
       "      <td>D</td>\n",
       "      <td>13</td>\n",
       "      <td>2013</td>\n",
       "      <td>1</td>\n",
       "      <td>1</td>\n",
       "      <td>1</td>\n",
       "      <td>Tuesday</td>\n",
       "      <td>5</td>\n",
       "    </tr>\n",
       "  </tbody>\n",
       "</table>\n",
       "</div>"
      ],
      "text/plain": [
       "   id       date  store_nbr      family  sales  onpromotion holiday_type  \\\n",
       "0   0 2013-01-01          1  AUTOMOTIVE    0.0            0      Holiday   \n",
       "1   1 2013-01-01          1   BABY CARE    0.0            0      Holiday   \n",
       "\n",
       "     locale locale_name  dcoilwtico   city  state store_type  cluster  year  \\\n",
       "0  National     Ecuador       93.14  Other  Other          D       13  2013   \n",
       "1  National     Ecuador       93.14  Other  Other          D       13  2013   \n",
       "\n",
       "   month  week  quarter day_of_week dcoilwtico_cat  \n",
       "0      1     1        1     Tuesday              5  \n",
       "1      1     1        1     Tuesday              5  "
      ]
     },
     "execution_count": 81,
     "metadata": {},
     "output_type": "execute_result"
    }
   ],
   "source": [
    "df.head(2)"
   ]
  },
  {
   "cell_type": "code",
   "execution_count": 73,
   "id": "34e237db",
   "metadata": {},
   "outputs": [
    {
     "data": {
      "image/png": "[encoded data removed]",
      "text/plain": [
       "<Figure size 1440x1080 with 12 Axes>"
      ]
     },
     "metadata": {
      "needs_background": "light"
     },
     "output_type": "display_data"
    }
   ],
   "source": [
    "%matplotlib inline\n",
    "import matplotlib.pyplot as plt\n",
    "df.hist(bins=50, figsize=(20,15))\n",
    "plt.show()"
   ]
  },
  {
   "cell_type": "markdown",
   "id": "36ea6dc9",
   "metadata": {},
   "source": [
    "__X and y__"
   ]
  },
  {
   "cell_type": "code",
   "execution_count": 33,
   "id": "3cb88237",
   "metadata": {},
   "outputs": [
    {
     "data": {
      "text/plain": [
       "((2803086, 80), (251262, 80), (279774, 80))"
      ]
     },
     "execution_count": 33,
     "metadata": {},
     "output_type": "execute_result"
    }
   ],
   "source": [
    "OH_train.shape, OH_valid.shape, OH_test.shape"
   ]
  },
  {
   "cell_type": "code",
   "execution_count": 34,
   "id": "452ffb9b",
   "metadata": {},
   "outputs": [],
   "source": [
    "OH_train.set_index('date',inplace = True)\n",
    "OH_test.set_index('date',inplace = True)\n",
    "OH_valid.set_index('date',inplace = True)"
   ]
  },
  {
   "cell_type": "code",
   "execution_count": 35,
   "id": "1586481e",
   "metadata": {},
   "outputs": [],
   "source": [
    "y_train = OH_train.sales\n",
    "X_train = OH_train.drop(['sales'], axis=1)\n",
    "\n",
    "y_test = OH_test.sales\n",
    "X_test = OH_test.drop(['sales'], axis=1)\n",
    "\n",
    "y_valid = OH_valid.sales\n",
    "X_valid = OH_valid.drop(['sales'], axis=1)"
   ]
  },
  {
   "cell_type": "code",
   "execution_count": null,
   "id": "bf0890be",
   "metadata": {},
   "outputs": [],
   "source": []
  },
  {
   "cell_type": "markdown",
   "id": "555fb235",
   "metadata": {},
   "source": [
    "__LINEAR REGRESSION__"
   ]
  },
  {
   "cell_type": "code",
   "execution_count": 37,
   "id": "eabb4c38",
   "metadata": {},
   "outputs": [
    {
     "data": {
      "text/plain": [
       "LinearRegression()"
      ]
     },
     "execution_count": 37,
     "metadata": {},
     "output_type": "execute_result"
    }
   ],
   "source": [
    "from sklearn.linear_model import LinearRegression\n",
    "lin_reg = LinearRegression()\n",
    "lin_reg.fit(X_train, y_train)"
   ]
  },
  {
   "cell_type": "code",
   "execution_count": null,
   "id": "40ad9970",
   "metadata": {},
   "outputs": [],
   "source": [
    "# lin_reg.intercept_, lin_reg.coef_ # Was taking too long"
   ]
  },
  {
   "cell_type": "code",
   "execution_count": 46,
   "id": "10377369",
   "metadata": {},
   "outputs": [],
   "source": [
    "def wape(y_true, y_pred): \n",
    "    return np.abs(y_true-y_pred).sum() / y_true.sum()\n",
    " "
   ]
  },
  {
   "cell_type": "code",
   "execution_count": 39,
   "id": "6b4cb7a7",
   "metadata": {},
   "outputs": [],
   "source": [
    "y_pred_lin_reg = lin_reg.predict(X_valid)"
   ]
  },
  {
   "cell_type": "code",
   "execution_count": 40,
   "id": "9e9a3e38",
   "metadata": {},
   "outputs": [
    {
     "data": {
      "text/plain": [
       "0.660849834736829"
      ]
     },
     "execution_count": 40,
     "metadata": {},
     "output_type": "execute_result"
    }
   ],
   "source": [
    "WAPE_lin_reg = wape(np.array(y_valid),y_pred_lin_reg)\n",
    "WAPE_lin_reg"
   ]
  },
  {
   "cell_type": "code",
   "execution_count": 41,
   "id": "9d263902",
   "metadata": {},
   "outputs": [
    {
     "data": {
      "text/plain": [
       "Ridge(alpha=1, random_state=42, solver='cholesky')"
      ]
     },
     "execution_count": 41,
     "metadata": {},
     "output_type": "execute_result"
    }
   ],
   "source": [
    "from sklearn.linear_model import Ridge\n",
    "ridge_reg = Ridge(alpha=1, solver=\"cholesky\", random_state=42)\n",
    "ridge_reg.fit(X_train, y_train)\n"
   ]
  },
  {
   "cell_type": "code",
   "execution_count": 42,
   "id": "5fa8f3e6",
   "metadata": {},
   "outputs": [],
   "source": [
    "y_pred_ridge_reg = lin_reg.predict(X_valid)"
   ]
  },
  {
   "cell_type": "code",
   "execution_count": 43,
   "id": "30bbacd9",
   "metadata": {},
   "outputs": [
    {
     "data": {
      "text/plain": [
       "0.660849834736829"
      ]
     },
     "execution_count": 43,
     "metadata": {},
     "output_type": "execute_result"
    }
   ],
   "source": [
    "WAPE_ridge = wape(np.array(y_valid),y_pred_ridge_reg)\n",
    "WAPE_ridge"
   ]
  },
  {
   "cell_type": "code",
   "execution_count": null,
   "id": "097212f7",
   "metadata": {},
   "outputs": [],
   "source": [
    "from sklearn.linear_model import ElasticNet\n",
    "elastic_net = ElasticNet(alpha=0.1, l1_ratio=0.5, random_state=42)\n",
    "elastic_net = elastic_net.fit(X_train, y_train)\n",
    "y_pred_enet = elastic_net.predict(X_valid)\n",
    "WAPE_enet = wape(np.array(y_valid),y_pred_enet)\n",
    "WAPE_enet"
   ]
  },
  {
   "cell_type": "code",
   "execution_count": null,
   "id": "75934370",
   "metadata": {},
   "outputs": [],
   "source": [
    "from sklearn.linear_model import Lasso\n",
    "lasso_reg = Lasso(alpha=0.1)\n",
    "lasso_reg.fit(X_train, y_train)\n",
    "y_pred_lasso = lasso_reg.predict(X_valid)\n",
    "WAPE_lasso = wape(np.array(y_valid),y_pred_lasso)\n",
    "WAPE_lasso"
   ]
  },
  {
   "cell_type": "code",
   "execution_count": null,
   "id": "717d1a31",
   "metadata": {},
   "outputs": [],
   "source": []
  },
  {
   "cell_type": "code",
   "execution_count": 38,
   "id": "71a3fc7e",
   "metadata": {},
   "outputs": [
    {
     "name": "stdout",
     "output_type": "stream",
     "text": [
      "Categorical variables:\n",
      "[]\n"
     ]
    }
   ],
   "source": [
    "s = (X_train.dtypes == 'object')\n",
    "object_cols_X_train = list(s[s].index)\n",
    "\n",
    "print(\"Categorical variables:\")\n",
    "print(object_cols_X_train)"
   ]
  },
  {
   "cell_type": "code",
   "execution_count": 39,
   "id": "98575758",
   "metadata": {},
   "outputs": [
    {
     "data": {
      "text/html": [
       "<div>\n",
       "<style scoped>\n",
       "    .dataframe tbody tr th:only-of-type {\n",
       "        vertical-align: middle;\n",
       "    }\n",
       "\n",
       "    .dataframe tbody tr th {\n",
       "        vertical-align: top;\n",
       "    }\n",
       "\n",
       "    .dataframe thead th {\n",
       "        text-align: right;\n",
       "    }\n",
       "</style>\n",
       "<table border=\"1\" class=\"dataframe\">\n",
       "  <thead>\n",
       "    <tr style=\"text-align: right;\">\n",
       "      <th></th>\n",
       "      <th>id</th>\n",
       "      <th>store_nbr</th>\n",
       "      <th>onpromotion</th>\n",
       "      <th>dcoilwtico</th>\n",
       "      <th>cluster</th>\n",
       "      <th>year</th>\n",
       "      <th>month</th>\n",
       "      <th>week</th>\n",
       "      <th>quarter</th>\n",
       "      <th>dcoilwtico_cat</th>\n",
       "      <th>...</th>\n",
       "      <th>58</th>\n",
       "      <th>59</th>\n",
       "      <th>60</th>\n",
       "      <th>61</th>\n",
       "      <th>62</th>\n",
       "      <th>63</th>\n",
       "      <th>64</th>\n",
       "      <th>65</th>\n",
       "      <th>66</th>\n",
       "      <th>67</th>\n",
       "    </tr>\n",
       "    <tr>\n",
       "      <th>date</th>\n",
       "      <th></th>\n",
       "      <th></th>\n",
       "      <th></th>\n",
       "      <th></th>\n",
       "      <th></th>\n",
       "      <th></th>\n",
       "      <th></th>\n",
       "      <th></th>\n",
       "      <th></th>\n",
       "      <th></th>\n",
       "      <th></th>\n",
       "      <th></th>\n",
       "      <th></th>\n",
       "      <th></th>\n",
       "      <th></th>\n",
       "      <th></th>\n",
       "      <th></th>\n",
       "      <th></th>\n",
       "      <th></th>\n",
       "      <th></th>\n",
       "      <th></th>\n",
       "    </tr>\n",
       "  </thead>\n",
       "  <tbody>\n",
       "    <tr>\n",
       "      <th>2013-01-01</th>\n",
       "      <td>0</td>\n",
       "      <td>1</td>\n",
       "      <td>0</td>\n",
       "      <td>93.14</td>\n",
       "      <td>13</td>\n",
       "      <td>2013</td>\n",
       "      <td>1</td>\n",
       "      <td>1</td>\n",
       "      <td>1</td>\n",
       "      <td>5</td>\n",
       "      <td>...</td>\n",
       "      <td>0.0</td>\n",
       "      <td>1.0</td>\n",
       "      <td>0.0</td>\n",
       "      <td>0.0</td>\n",
       "      <td>0.0</td>\n",
       "      <td>0.0</td>\n",
       "      <td>0.0</td>\n",
       "      <td>0.0</td>\n",
       "      <td>1.0</td>\n",
       "      <td>0.0</td>\n",
       "    </tr>\n",
       "    <tr>\n",
       "      <th>2013-01-01</th>\n",
       "      <td>1</td>\n",
       "      <td>1</td>\n",
       "      <td>0</td>\n",
       "      <td>93.14</td>\n",
       "      <td>13</td>\n",
       "      <td>2013</td>\n",
       "      <td>1</td>\n",
       "      <td>1</td>\n",
       "      <td>1</td>\n",
       "      <td>5</td>\n",
       "      <td>...</td>\n",
       "      <td>0.0</td>\n",
       "      <td>1.0</td>\n",
       "      <td>0.0</td>\n",
       "      <td>0.0</td>\n",
       "      <td>0.0</td>\n",
       "      <td>0.0</td>\n",
       "      <td>0.0</td>\n",
       "      <td>0.0</td>\n",
       "      <td>1.0</td>\n",
       "      <td>0.0</td>\n",
       "    </tr>\n",
       "    <tr>\n",
       "      <th>2013-01-01</th>\n",
       "      <td>2</td>\n",
       "      <td>1</td>\n",
       "      <td>0</td>\n",
       "      <td>93.14</td>\n",
       "      <td>13</td>\n",
       "      <td>2013</td>\n",
       "      <td>1</td>\n",
       "      <td>1</td>\n",
       "      <td>1</td>\n",
       "      <td>5</td>\n",
       "      <td>...</td>\n",
       "      <td>0.0</td>\n",
       "      <td>1.0</td>\n",
       "      <td>0.0</td>\n",
       "      <td>0.0</td>\n",
       "      <td>0.0</td>\n",
       "      <td>0.0</td>\n",
       "      <td>0.0</td>\n",
       "      <td>0.0</td>\n",
       "      <td>1.0</td>\n",
       "      <td>0.0</td>\n",
       "    </tr>\n",
       "  </tbody>\n",
       "</table>\n",
       "<p>3 rows × 78 columns</p>\n",
       "</div>"
      ],
      "text/plain": [
       "            id  store_nbr  onpromotion  dcoilwtico  cluster  year  month  \\\n",
       "date                                                                       \n",
       "2013-01-01   0          1            0       93.14       13  2013      1   \n",
       "2013-01-01   1          1            0       93.14       13  2013      1   \n",
       "2013-01-01   2          1            0       93.14       13  2013      1   \n",
       "\n",
       "            week  quarter dcoilwtico_cat  ...   58   59   60   61   62   63  \\\n",
       "date                                      ...                                 \n",
       "2013-01-01     1        1              5  ...  0.0  1.0  0.0  0.0  0.0  0.0   \n",
       "2013-01-01     1        1              5  ...  0.0  1.0  0.0  0.0  0.0  0.0   \n",
       "2013-01-01     1        1              5  ...  0.0  1.0  0.0  0.0  0.0  0.0   \n",
       "\n",
       "             64   65   66   67  \n",
       "date                            \n",
       "2013-01-01  0.0  0.0  1.0  0.0  \n",
       "2013-01-01  0.0  0.0  1.0  0.0  \n",
       "2013-01-01  0.0  0.0  1.0  0.0  \n",
       "\n",
       "[3 rows x 78 columns]"
      ]
     },
     "execution_count": 39,
     "metadata": {},
     "output_type": "execute_result"
    }
   ],
   "source": [
    "X_train.head(3)"
   ]
  },
  {
   "cell_type": "code",
   "execution_count": 43,
   "id": "eeb6c2b8",
   "metadata": {},
   "outputs": [
    {
     "data": {
      "text/plain": [
       "id                   int64\n",
       "store_nbr            int64\n",
       "onpromotion          int64\n",
       "dcoilwtico         float64\n",
       "cluster              int64\n",
       "year                 int64\n",
       "month                int64\n",
       "week                UInt32\n",
       "quarter              int64\n",
       "dcoilwtico_cat    category\n",
       "dtype: object"
      ]
     },
     "execution_count": 43,
     "metadata": {},
     "output_type": "execute_result"
    }
   ],
   "source": [
    "X_train.dtypes[:10]"
   ]
  },
  {
   "cell_type": "code",
   "execution_count": 44,
   "id": "f5422caa",
   "metadata": {},
   "outputs": [],
   "source": [
    "X_train.dcoilwtico_cat = X_train.dcoilwtico_cat.astype('int')\n",
    "X_train.week = X_train.week.astype('int')\n",
    "X_valid.dcoilwtico_cat = X_valid.dcoilwtico_cat.astype('int')\n",
    "X_valid.week = X_valid.week.astype('int')"
   ]
  },
  {
   "cell_type": "code",
   "execution_count": null,
   "id": "5e76bf5a",
   "metadata": {},
   "outputs": [],
   "source": [
    "import xgboost\n",
    "xgb_reg = xgboost.XGBRegressor(random_state=42)\n",
    "xgb_reg.fit(X_train, y_train)\n",
    "y_pred_xgb = xgb_reg.predict(X_valid)\n",
    "wape_pred_xgb = wape(np.array(y_valid),y_pred_xgb)"
   ]
  },
  {
   "cell_type": "code",
   "execution_count": 47,
   "id": "366d3a2e",
   "metadata": {},
   "outputs": [
    {
     "data": {
      "text/plain": [
       "0.2731942278339088"
      ]
     },
     "execution_count": 47,
     "metadata": {},
     "output_type": "execute_result"
    }
   ],
   "source": [
    "wape_pred_xgb"
   ]
  },
  {
   "cell_type": "code",
   "execution_count": 49,
   "id": "ef3b2dc0",
   "metadata": {},
   "outputs": [
    {
     "name": "stdout",
     "output_type": "stream",
     "text": [
      "[0]\tvalidation_0-rmse:1126.03809\n",
      "[1]\tvalidation_0-rmse:907.39740\n",
      "[2]\tvalidation_0-rmse:767.17847\n",
      "[3]\tvalidation_0-rmse:659.49298\n",
      "[4]\tvalidation_0-rmse:604.39874\n",
      "[5]\tvalidation_0-rmse:560.24676\n",
      "[6]\tvalidation_0-rmse:528.27167\n",
      "[7]\tvalidation_0-rmse:497.31165\n",
      "[8]\tvalidation_0-rmse:484.86453\n",
      "[9]\tvalidation_0-rmse:475.84732\n",
      "[10]\tvalidation_0-rmse:464.84436\n",
      "[11]\tvalidation_0-rmse:451.04953\n",
      "[12]\tvalidation_0-rmse:445.04883\n",
      "[13]\tvalidation_0-rmse:437.73343\n",
      "[14]\tvalidation_0-rmse:431.61020\n",
      "[15]\tvalidation_0-rmse:428.50858\n",
      "[16]\tvalidation_0-rmse:427.85010\n",
      "[17]\tvalidation_0-rmse:425.92007\n",
      "[18]\tvalidation_0-rmse:419.50702\n",
      "[19]\tvalidation_0-rmse:417.79962\n",
      "[20]\tvalidation_0-rmse:417.10187\n",
      "[21]\tvalidation_0-rmse:415.10333\n",
      "[22]\tvalidation_0-rmse:413.84970\n",
      "[23]\tvalidation_0-rmse:410.92023\n",
      "[24]\tvalidation_0-rmse:407.16589\n",
      "[25]\tvalidation_0-rmse:405.89175\n",
      "[26]\tvalidation_0-rmse:403.45697\n",
      "[27]\tvalidation_0-rmse:402.20074\n",
      "[28]\tvalidation_0-rmse:401.96759\n",
      "[29]\tvalidation_0-rmse:402.18942\n",
      "[30]\tvalidation_0-rmse:401.96869\n",
      "Validation WAPE: 0.2943338310808674\n"
     ]
    }
   ],
   "source": [
    "xgb_reg.fit(X_train, y_train,\n",
    "                eval_set=[(X_valid, y_valid)], early_stopping_rounds=2)\n",
    "y_pred = xgb_reg.predict(X_valid)\n",
    "y_pred_xgb = xgb_reg.predict(X_valid)\n",
    "wape_pred_xgb = wape(np.array(y_valid),y_pred_xgb)\n",
    "print(\"Validation WAPE:\", wape_pred_xgb)"
   ]
  },
  {
   "cell_type": "code",
   "execution_count": null,
   "id": "f4b6d56a",
   "metadata": {},
   "outputs": [],
   "source": []
  },
  {
   "cell_type": "markdown",
   "id": "b8c4b2a3",
   "metadata": {},
   "source": [
    "__Can ignore the below analysis.. its not complete__"
   ]
  },
  {
   "cell_type": "markdown",
   "id": "46a6e1b1",
   "metadata": {},
   "source": [
    "__Visualizing the dataset__"
   ]
  },
  {
   "cell_type": "code",
   "execution_count": 143,
   "id": "da19f6a1",
   "metadata": {},
   "outputs": [],
   "source": [
    "df['date'] = pd.to_datetime(df['date'])"
   ]
  },
  {
   "cell_type": "markdown",
   "id": "a3aa7f09",
   "metadata": {},
   "source": [
    "For Store 1 of family AUTOMOTIVE"
   ]
  },
  {
   "cell_type": "code",
   "execution_count": 144,
   "id": "351a5a75",
   "metadata": {},
   "outputs": [],
   "source": [
    "df1 = df[(df.store_nbr == 1 )& (df.family == \"AUTOMOTIVE\")][[\"date\",\"sales\"]].set_index('date').resample('M').mean()"
   ]
  },
  {
   "cell_type": "code",
   "execution_count": 145,
   "id": "d706e403",
   "metadata": {},
   "outputs": [
    {
     "data": {
      "image/png": "[encoded data removed]",
      "text/plain": [
       "<Figure size 1296x360 with 1 Axes>"
      ]
     },
     "metadata": {
      "needs_background": "light"
     },
     "output_type": "display_data"
    }
   ],
   "source": [
    "y = df1['sales']\n",
    "fig, ax = plt.subplots(figsize=(18, 5))\n",
    "ax.plot(y,marker='o', markersize=8, linestyle='-', label='Monthly Mean Sales', color='fuchsia')\n",
    "ax.set_ylabel('sales')\n",
    "ax.set_title('Average sales per month')\n",
    "ax.set_xlabel('years')\n",
    "ax.grid(axis='x')\n",
    "ax.legend();"
   ]
  },
  {
   "cell_type": "markdown",
   "id": "2272ba80",
   "metadata": {
    "_uuid": "1e71de03beca98002540379de58943270006a6ae"
   },
   "source": [
    "From the plot below, we can see that there is a __Trend compoenent__ in the series.<br/> Now for better clarity lets decompose the time series in its constituent components. "
   ]
  },
  {
   "cell_type": "markdown",
   "id": "a4f14474",
   "metadata": {},
   "source": [
    "### Decomposition <a name = \"Decomposition\"></a>"
   ]
  },
  {
   "cell_type": "code",
   "execution_count": 146,
   "id": "c59220ee",
   "metadata": {},
   "outputs": [
    {
     "data": {
      "image/png": "[encoded data removed]",
      "text/plain": [
       "<Figure size 720x360 with 4 Axes>"
      ]
     },
     "metadata": {
      "needs_background": "light"
     },
     "output_type": "display_data"
    }
   ],
   "source": [
    "from matplotlib.pylab import rcParams\n",
    "rcParams['figure.figsize']  =  10, 5\n",
    "\n",
    "from statsmodels.tsa.seasonal import seasonal_decompose\n",
    "decomposed_dataset  =  seasonal_decompose(df1)         \n",
    "figure  =  decomposed_dataset.plot()\n",
    "plt.show()"
   ]
  },
  {
   "cell_type": "markdown",
   "id": "ad6e2872",
   "metadata": {},
   "source": [
    "### Stationarity Check <a name = \"Stationarity Check\"></a>\n",
    "\n",
    "We will see two methods two check stationarity. "
   ]
  },
  {
   "cell_type": "markdown",
   "id": "e45d94ff",
   "metadata": {},
   "source": [
    "Making a function to check stationarity in one go using both __rolling statistics plot and ADF test__."
   ]
  },
  {
   "cell_type": "code",
   "execution_count": 81,
   "id": "a733889e",
   "metadata": {},
   "outputs": [],
   "source": [
    "def test_stationarity(time_series):\n",
    "    rolling_means(time_series)\n",
    "    adf_test(time_series)"
   ]
  },
  {
   "cell_type": "markdown",
   "id": "a94d58a0",
   "metadata": {},
   "source": [
    "#### Rolling Statistics Methodology <a name = \"Rolling Statistics Methodology\"></a>"
   ]
  },
  {
   "cell_type": "code",
   "execution_count": 147,
   "id": "1fa91279",
   "metadata": {
    "_uuid": "720f4fff3d03fc7daa98d4412f0bcddf1f2d89fa"
   },
   "outputs": [],
   "source": [
    "# Determine rolling statistics\n",
    "def rolling_means(time_series):\n",
    "    rolmean  =  time_series.rolling(window = 12).mean()    #window size 12 denotes 12 months, giving rolling mean at yearly level\n",
    "    rolstd  =  time_series.rolling(window = 12).std()\n",
    "\n",
    "    #Plot rolling statistics\n",
    "\n",
    "    rcParams['figure.figsize']  =  10, 5 \n",
    "\n",
    "    orig  =  plt.plot(time_series, color = 'blue', label = 'Original')\n",
    "    mean  =  plt.plot(rolmean, color = 'red', label = 'Rolling Mean')\n",
    "    std  =  plt.plot(rolstd, color = 'black', label = 'Rolling Std')\n",
    "    plt.legend(loc = 'best')\n",
    "    plt.title('Rolling Mean & Standard Deviation')\n",
    "    plt.show(block = False)"
   ]
  },
  {
   "cell_type": "code",
   "execution_count": 148,
   "id": "f6cf4157",
   "metadata": {},
   "outputs": [
    {
     "data": {
      "image/png": "[encoded data removed]",
      "text/plain": [
       "<Figure size 720x360 with 1 Axes>"
      ]
     },
     "metadata": {
      "needs_background": "light"
     },
     "output_type": "display_data"
    }
   ],
   "source": [
    "rolling_means(df1)"
   ]
  },
  {
   "cell_type": "markdown",
   "id": "88abd71f",
   "metadata": {
    "_uuid": "9dd9317997eaf9d86c1615b144d832d9a2547cb9"
   },
   "source": [
    "- Rolling mean has a __trend__ component \n",
    "- Rolling standard deviation is approx. __constant__ with time.\n",
    "\n",
    "For our time series to be stationary, we need to ensure that both the __rolling statistics__ i.e: __mean & stdandard deviation remain time invariant__ or constant with time. Thus the curves for both of them have to be parallel to the x-axis, which in our case is not so. \n",
    "\n",
    "To further augment our hypothesis that the time series is not stationary, let us perform the __ADCF test__."
   ]
  },
  {
   "cell_type": "markdown",
   "id": "729a05e1",
   "metadata": {},
   "source": [
    "####  ADF(Augmented Dickey-Fuller) Test <a name = \"ADF\"></a>"
   ]
  },
  {
   "cell_type": "markdown",
   "id": "f9a6ed1c",
   "metadata": {
    "_uuid": "fe828fcb190363b6aba127ecea7f5b7e1fd554bc"
   },
   "source": [
    "For a Time series to be __stationary__, its ADF test should have:\n",
    "1. __low p-value__ (according to the null hypothesis)\n",
    "2. __Critical values__ at 1%, 5%, 10% confidence intervals should be as __close__ as possible __to__ the __Test Statistics__"
   ]
  },
  {
   "cell_type": "code",
   "execution_count": 153,
   "id": "47bb673e",
   "metadata": {
    "_uuid": "424d7f23806906f44e793442fdd451987c9b33d7"
   },
   "outputs": [],
   "source": [
    "#Perform Augmented Dickey–Fuller test:\n",
    "def adf_test(time_series):\n",
    "    from statsmodels.tsa.stattools import adfuller\n",
    "    dftest  =  adfuller(time_series['sales'], autolag = 'AIC')\n",
    "\n",
    "    dfoutput  =  pd.Series(dftest[0:4], index = ['Test Statistic','p-value','#Lags Used','Number of Observations Used'])\n",
    "    for key,value in dftest[4].items():\n",
    "        dfoutput['Critical Value (%s)'%key]  =  value\n",
    "    \n",
    "    print('Results of Dickey Fuller Test:')    \n",
    "    print(dfoutput)"
   ]
  },
  {
   "cell_type": "code",
   "execution_count": 154,
   "id": "74f08932",
   "metadata": {},
   "outputs": [
    {
     "name": "stdout",
     "output_type": "stream",
     "text": [
      "Results of Dickey Fuller Test:\n",
      "Test Statistic                 -1.682590\n",
      "p-value                         0.440104\n",
      "#Lags Used                      1.000000\n",
      "Number of Observations Used    54.000000\n",
      "Critical Value (1%)            -3.557709\n",
      "Critical Value (5%)            -2.916770\n",
      "Critical Value (10%)           -2.596222\n",
      "dtype: float64\n"
     ]
    }
   ],
   "source": [
    "adf_test(df1)"
   ]
  },
  {
   "cell_type": "markdown",
   "id": "816a9fb2",
   "metadata": {
    "_uuid": "fe828fcb190363b6aba127ecea7f5b7e1fd554bc"
   },
   "source": [
    "- __medium p-value__.\n",
    "- Also critical values (1%, 5%, 10%) are __not too far__ from the Test Statistics.\n",
    "\n",
    "Hence, we can say that **our Time Series at the moment can be made more stationary**"
   ]
  },
  {
   "cell_type": "markdown",
   "id": "28ebc9e9",
   "metadata": {
    "_uuid": "ff2e442d4169e7c979efbd402e835c01c0b2c6fc"
   },
   "source": [
    "### Data Transformation to achieve Stationarity <a name = \"Data Transformation to achieve Stationarity\"></a>"
   ]
  },
  {
   "cell_type": "markdown",
   "id": "8ae1c15a",
   "metadata": {
    "_uuid": "2daca62f26cb0736d99a037b8cfac78f4e2c3178"
   },
   "source": [
    "#### Log Scale Transformation  <a name = \"Log Scale Transformation\"></a>"
   ]
  },
  {
   "cell_type": "code",
   "execution_count": 155,
   "id": "306a8ab5",
   "metadata": {
    "_uuid": "90510fb0b230444f44eee765824a7c6dd2fb4b5a"
   },
   "outputs": [
    {
     "data": {
      "text/plain": [
       "[<matplotlib.lines.Line2D at 0x1c6eebee3a0>]"
      ]
     },
     "execution_count": 155,
     "metadata": {},
     "output_type": "execute_result"
    },
    {
     "data": {
      "image/png": "[encoded data removed]",
      "text/plain": [
       "<Figure size 720x360 with 1 Axes>"
      ]
     },
     "metadata": {
      "needs_background": "light"
     },
     "output_type": "display_data"
    }
   ],
   "source": [
    "import numpy as np\n",
    "indexedDataset_logScale  =  np.log(df1)\n",
    "rcParams['figure.figsize']  =  10, 5\n",
    "plt.plot(indexedDataset_logScale)"
   ]
  },
  {
   "cell_type": "code",
   "execution_count": 156,
   "id": "6e251906",
   "metadata": {
    "_uuid": "3022a9239558aca693cf4607f00a9eaa1cfce37b"
   },
   "outputs": [
    {
     "data": {
      "image/png": "[encoded data removed]",
      "text/plain": [
       "<Figure size 720x360 with 1 Axes>"
      ]
     },
     "metadata": {
      "needs_background": "light"
     },
     "output_type": "display_data"
    },
    {
     "name": "stdout",
     "output_type": "stream",
     "text": [
      "Results of Dickey Fuller Test:\n",
      "Test Statistic                 -2.240299\n",
      "p-value                         0.191946\n",
      "#Lags Used                      1.000000\n",
      "Number of Observations Used    54.000000\n",
      "Critical Value (1%)            -3.557709\n",
      "Critical Value (5%)            -2.916770\n",
      "Critical Value (10%)           -2.596222\n",
      "dtype: float64\n"
     ]
    }
   ],
   "source": [
    "test_stationarity(indexedDataset_logScale)"
   ]
  },
  {
   "cell_type": "markdown",
   "id": "153461c8",
   "metadata": {},
   "source": [
    "Still not stationary"
   ]
  },
  {
   "cell_type": "markdown",
   "id": "b58a6a2f",
   "metadata": {
    "_uuid": "6ac9dc414702d89049c3ad226e4f8fc7d6514dee"
   },
   "source": [
    "From above graph, we see that even though rolling mean is __not stationary__, it is still better than the previous case"
   ]
  },
  {
   "cell_type": "markdown",
   "id": "5b34587c",
   "metadata": {},
   "source": [
    "#### 5.2 Log Scale - Moving Average Transformation  <a name = \"Log Scale - Moving Average Transformation\"></a>"
   ]
  },
  {
   "cell_type": "code",
   "execution_count": 157,
   "id": "68789543",
   "metadata": {
    "_uuid": "b022e936f5b22d9e1847190abe37c68012fd3b95"
   },
   "outputs": [
    {
     "data": {
      "image/png": "[encoded data removed]",
      "text/plain": [
       "<Figure size 720x360 with 1 Axes>"
      ]
     },
     "metadata": {
      "needs_background": "light"
     },
     "output_type": "display_data"
    }
   ],
   "source": [
    "movingAverage  =  indexedDataset_logScale.rolling(window = 12).mean()\n",
    "datasetLogScaleMinusMovingAverage  =  indexedDataset_logScale - movingAverage\n",
    "plt.plot(datasetLogScaleMinusMovingAverage)\n",
    "\n",
    "#Remove NAN values\n",
    "datasetLogScaleMinusMovingAverage.dropna(inplace = True)\n"
   ]
  },
  {
   "cell_type": "code",
   "execution_count": 158,
   "id": "086d0d0b",
   "metadata": {
    "_uuid": "3022a9239558aca693cf4607f00a9eaa1cfce37b"
   },
   "outputs": [
    {
     "data": {
      "image/png": "[encoded data removed]",
      "text/plain": [
       "<Figure size 720x360 with 1 Axes>"
      ]
     },
     "metadata": {
      "needs_background": "light"
     },
     "output_type": "display_data"
    },
    {
     "name": "stdout",
     "output_type": "stream",
     "text": [
      "Results of Dickey Fuller Test:\n",
      "Test Statistic                 -2.289191\n",
      "p-value                         0.175478\n",
      "#Lags Used                      4.000000\n",
      "Number of Observations Used    40.000000\n",
      "Critical Value (1%)            -3.605565\n",
      "Critical Value (5%)            -2.937069\n",
      "Critical Value (10%)           -2.606986\n",
      "dtype: float64\n"
     ]
    }
   ],
   "source": [
    "test_stationarity(datasetLogScaleMinusMovingAverage)"
   ]
  },
  {
   "cell_type": "markdown",
   "id": "f0669673",
   "metadata": {
    "_uuid": "b8df1ecf50a8e19504cdd513930364fb23307baa"
   },
   "source": [
    "- p-value has __reduced__ from 0.44 to 0.17.  \n",
    "- The __critical values__ at 1%,5%,10% confidence intervals are pretty __close to the Test Statistic__.\n",
    "\n",
    "Thus, from above 2 points, we can say that our given series is stationary.  \n",
    "\n",
    "From above graph, we observe that our intuition that *\"subtracting two related series having similar trend components will make the result stationary\"* is true.   \n",
    "\n",
    "\n",
    "\n",
    "But, let us explore & try to find a better scale than our current log.  "
   ]
  },
  {
   "cell_type": "markdown",
   "id": "794e109a",
   "metadata": {
    "_uuid": "35a7bdf0fa22bf5776a4d5a715e0531b2688a889"
   },
   "source": [
    "### Exponential Decay Transformation   <a name = \"Exponential Decay Transformation \"></a>"
   ]
  },
  {
   "cell_type": "code",
   "execution_count": 159,
   "id": "17a841a1",
   "metadata": {
    "_uuid": "b0a6d6f496870b20abaf04d889496d6db921759e"
   },
   "outputs": [
    {
     "data": {
      "text/plain": [
       "[<matplotlib.lines.Line2D at 0x1c6b1a6adf0>]"
      ]
     },
     "execution_count": 159,
     "metadata": {},
     "output_type": "execute_result"
    },
    {
     "data": {
      "image/png": "[encoded data removed]",
      "text/plain": [
       "<Figure size 720x360 with 1 Axes>"
      ]
     },
     "metadata": {
      "needs_background": "light"
     },
     "output_type": "display_data"
    }
   ],
   "source": [
    "exponentialDecayWeightedAverage  =  indexedDataset_logScale.ewm(halflife = 12, min_periods = 0, adjust = True).mean()\n",
    "plt.plot(indexedDataset_logScale)\n",
    "plt.plot(exponentialDecayWeightedAverage, color = 'red')"
   ]
  },
  {
   "cell_type": "code",
   "execution_count": 161,
   "id": "510c31ba",
   "metadata": {
    "_uuid": "3022a9239558aca693cf4607f00a9eaa1cfce37b"
   },
   "outputs": [
    {
     "data": {
      "image/png": "[encoded data removed]",
      "text/plain": [
       "<Figure size 720x360 with 1 Axes>"
      ]
     },
     "metadata": {
      "needs_background": "light"
     },
     "output_type": "display_data"
    },
    {
     "name": "stdout",
     "output_type": "stream",
     "text": [
      "Results of Dickey Fuller Test:\n",
      "Test Statistic                 -2.059511\n",
      "p-value                         0.261104\n",
      "#Lags Used                      1.000000\n",
      "Number of Observations Used    54.000000\n",
      "Critical Value (1%)            -3.557709\n",
      "Critical Value (5%)            -2.916770\n",
      "Critical Value (10%)           -2.596222\n",
      "dtype: float64\n"
     ]
    }
   ],
   "source": [
    "test_stationarity(exponentialDecayWeightedAverage)"
   ]
  },
  {
   "cell_type": "markdown",
   "id": "a992ae43",
   "metadata": {},
   "source": [
    "rather worsened from the previously acheived"
   ]
  },
  {
   "cell_type": "markdown",
   "id": "e2fc6f7e",
   "metadata": {
    "_uuid": "4443cd76dc7af382438df8d0ab10217560891ff8"
   },
   "source": [
    "From above graph, it seems that exponential decay is not holding any advantage over log scale as both the corresponding curves are similar."
   ]
  },
  {
   "cell_type": "code",
   "execution_count": 162,
   "id": "eab2e431",
   "metadata": {
    "_uuid": "c2e6f7b573fd615b18fbcd3c8ea5ef1e0549d28e"
   },
   "outputs": [
    {
     "data": {
      "image/png": "[encoded data removed]",
      "text/plain": [
       "<Figure size 720x360 with 1 Axes>"
      ]
     },
     "metadata": {
      "needs_background": "light"
     },
     "output_type": "display_data"
    },
    {
     "name": "stdout",
     "output_type": "stream",
     "text": [
      "Results of Dickey Fuller Test:\n",
      "Test Statistic                 -4.787975\n",
      "p-value                         0.000057\n",
      "#Lags Used                      0.000000\n",
      "Number of Observations Used    55.000000\n",
      "Critical Value (1%)            -3.555273\n",
      "Critical Value (5%)            -2.915731\n",
      "Critical Value (10%)           -2.595670\n",
      "dtype: float64\n"
     ]
    }
   ],
   "source": [
    "datasetLogScaleMinusExponentialMovingAverage  =  indexedDataset_logScale - exponentialDecayWeightedAverage\n",
    "test_stationarity(datasetLogScaleMinusExponentialMovingAverage)"
   ]
  },
  {
   "cell_type": "markdown",
   "id": "c4be428f",
   "metadata": {
    "_uuid": "14d7b74db220e1f9ae575d8eaa5cbd4b78e996ed"
   },
   "source": [
    "We observe that the Time Series is stationary & also the series for moving avg & std. dev. is almost parallel to x-axis thus they also have no trend.  \n",
    "Also,     \n",
    "1. p-value has __decreased__ from 0.17 to 0.00005.  \n",
    "2. Test Statistic value have deviated abit from the Critical values.  \n",
    "\n",
    "Seems our current transformation is better than the previous logarithmic transformation."
   ]
  },
  {
   "cell_type": "markdown",
   "id": "c476334b",
   "metadata": {
    "_uuid": "fad66003073e3ca600d1c159b8c0968c50f4377f"
   },
   "source": [
    "## The End"
   ]
  },
  {
   "cell_type": "code",
   "execution_count": null,
   "id": "bb51ca92",
   "metadata": {},
   "outputs": [],
   "source": []
  }
 ],
 "metadata": {
  "kernelspec": {
   "display_name": "Python 3",
   "language": "python",
   "name": "python3"
  },
  "language_info": {
   "codemirror_mode": {
    "name": "ipython",
    "version": 3
   },
   "file_extension": ".py",
   "mimetype": "text/x-python",
   "name": "python",
   "nbconvert_exporter": "python",
   "pygments_lexer": "ipython3",
   "version": "3.8.8"
  }
 },
 "nbformat": 4,
 "nbformat_minor": 5
}
